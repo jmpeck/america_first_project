{
 "cells": [
  {
   "cell_type": "markdown",
   "metadata": {},
   "source": [
    "First I import the request library and demonstrate how my program interacts with the \"Chronicaling America\" API."
   ]
  },
  {
   "cell_type": "code",
   "execution_count": 1,
   "metadata": {},
   "outputs": [
    {
     "data": {
      "text/plain": [
       "20"
      ]
     },
     "execution_count": 1,
     "metadata": {},
     "output_type": "execute_result"
    }
   ],
   "source": [
    "import requests #import the library that we use to make the http request\n",
    "r = requests.get(\"http://chroniclingamerica.loc.gov/search/pages/results/?state=Arizona&format=json\").json()\n",
    "r['itemsPerPage'] #print out the number of items per page:"
   ]
  },
  {
   "cell_type": "code",
   "execution_count": 2,
   "metadata": {},
   "outputs": [
    {
     "data": {
      "text/plain": [
       "'THE ARIZONA REPUBLICAN, WEDNESDAY MORN1NCJ, A TRIE 22, 1008.\\n3:\\nWHAT m BEEN DONE\\nIN THE STATE Of KANSAS\\nThe Results of Two Score Years of\\nProhibition.\\nCI\\nALL SIZES. BLACK AND GALVANIZED,\\nJust received a Car Load.\\nGIVE US YOUR ORDER.\\n1\\n121-130\\nEZRA W. THAYER\\nWash. St. 127-13:\\'. E. Adams St.\\nHIS M.IND iS CLEAR\\nJOHN BSOAOBtGKS CASE\\nHis Release From \\'.he Asyijm Where\\nHe Wrs Sent Two Months Ago to\\nOn January is of tii\\nMro.idbe. k. ..1.1 res;\\nv. as i n;;:i -.1 to i!u-\\n. tisane iillil ill ::s much\\n-ntv-iiine ears of\\nis y. ar John A.\\n.1.-1,1 C Tempo,\\nasylum for the\\nas in- was wv-\\ngo it was not\\nthought that he wiulil recover his\\nminu. The hallu. illations umlt-r which\\n1:. ss said to be laboring .t\\' of the\\nK -,.r. -fc2ext. .--.\\nfV 2 Ii EKH:S?2P3ER\\nft MMlP W. l?-ilH\\'r.rT.7-n.\\ni,rr\\'fir, - v - . r -t..-\\'\\nv.\\'?, : \\' \\'Ln.-;rW.\";V,il.\\')..K.j\\nI character which generally Indicates\\n\\' hopciess insanity?\"\\nj Knt on April y X.r. liioadbeck was\\ndischarged without -a sign of mental\\nj weakness in spile of his advanced a?.-,\\ni Moic.vt r he .Iocs ii.il appear to have\\nundergone a mental lapse during the\\nj period including his arrest, trial and\\ncommitment. Jlo recalls the slightest\\njilt tails of all. even to uninilxirtant\\nI . onversations he had had with various\\ni persons. His relation of It\\'s cxperi-\\neii. es was perfectly coherent. He said\\nI he was in the asylum a week before he\\ndiscovered what kind of an institution\\n! it was. Ho had been told at the of-\\nfiee of the probate court that he was\\nto be sent to the territorial hospital!\\nHe re.-isted being taken there for the\\nreason he says that he was not 1:1 and\\nwas .lesfrous of returning to his home,\\nilut aft. r he was placed In the asylum\\nhe was kept closely confined for some\\ntime and had no opportunity to talk\\nw it h any one.\\nMr. I:roa.lh.ck was an old sol.lt-r of\\nthe civil war and for several years he\\nhas be. ti in receipt . f a pension. It is\\nnot very much, but Mr. Froadh.-ek\\nsaid that it was sufficient for his needs\\ns that he is in no .! ing.-r of becoming\\na burden upon his neighbors.\\nWhether or not he was insane, his\\nideas of thi.igs in general are now\\nmuch clearer than those of the average\\nman of that age. \\'\\nIf \"prohibition don\\'t prohibit.\" why\\ndo tin brewers and distillers move\\nheaven and earth to defeat prohibition\\nlegislation? -\\nWhen the supporters of the saloon\\nare making comparisons odious to the\\ncause of prohibition, why do they al\\nways use Maine as a representative n.\\'\\nthe prohibition side? Why don\\'t they\\nuse Kansas in comparison with the\\nsaloon cursed state?\\nliccause the effects of prohibition in\\nKansas would give the lie\" to their con\\ntention. Kansas today has twenty\\nseven poor houses without tenants,\\nand many more whose tenants are so\\nfew they are lonesome; these condi\\ntions are found only in counties where\\nno saloon exists.\\nA few years ago Kansas had a dem\\nocratic governor \\'.lick and a very re\\nspictalde\\' governor he was. too. He\\nuamed a second term and his support\\ners, being constitutionally opposed to\\nprohibition, decided the time was ripe\\nto re-submit the question to the vot\\ners, as they believed Kansas was\\n\"tired of prohibition: they didn\\'t dare\\nto put it in their platform, but they\\nadopted the- battle cry\\' of \"(IlicK and\\ni;esubmissifl,\" will the resirlt of a ter\\nrible defeat.\\nI enclose a clipping from the Ohio\\nState Journal, which shows how prohi\\nbition, as compared with saloons, af\\nfects state expenses: also, one from a\\nreliable eastern journal, which shows\\nhow drunkenness affects railroad busi\\nness. lr. s-H\\'. tfully.\\nF. M. iuddi.t:.\\nPhoenix, Ariz.\\nViOLIN LESSONS.\\nFountain\\'s music store. All latest songs\\nflltli Om BANK \\'\\n::; r-; ! Security Building, Los Angeles\\njidp-\\'-V-. Oldest & Largest in Southwest.\\nJ\\'iiC Capital and Surplus $1,200,000.00\\ns\\' : -\\n4 Per Ct. Interest paid on Term Deposits\\nThere nr.. ab--iui- iy nope , . ;t \" anyw)n re in Phoenix.\\nQUALITY AND FLAVOR UNEXCELLED :-e! we wi:l\\n.-.II in--!.! for\\nALL EGG DrtlNKS AND SUNDAES. Pure b (\\'ream.\\nv, h-.h sab- an 1 retail.\\nOhas. J. San ic has\\n44 West Washington St.,\\nPRACTICAL EXPERIENCE.\\nI wish all farmers would read the\\nfollowing, for it is said they pay two\\nthirds of the taxes cf Ohio. I think it\\n! is nearly 4-.r. (as nothing escapes the\\njnss.ssor each spring), and he has also\\nj to pay the tax 0:1 nil animals that may\\nj die, or sheep that are killed or .lie\\nj from bites of dogs. I used to think\\nthat a drunkard was simply a curse to\\nhimself and his family onlv. I was\\none of the trustees to build the Cen\\ntral .Asylum of Insane at \\',,lumbus.\\nand help to operate the same, having\\nDr. Grundy as superintendent. In\\nlooking over the records with the sup\\nerintendent we found that seventy-one\\nper cent of the S.\".a inmates was the\\nresult of drink. That opened my eyes\\nand I w.-nl over to s.-e !r. Doren at\\ntbe \"imbecile as lam.\" He inform-. 1 me\\nthat probably MS per cent of the imbe\\ncile children had one or both drunken\\npa 1 cuts.\\nThese things certainly made mo a\\nprohibitionist. This\" was in IV.;. In\\nivs Kansas passed a prohibitory law\\nand at that time I had charge of a\\nlarge ranch in that stale, owned by\\nfour estates, and the txes mi th\" bare\\nland were Ji\\'.n-m. During the next three\\nyears I had placed on this ranch a\\ngood frame house of .-ighr rooms, a\\ngood stphle, scalest rorrals. wells and\\nwind mills, aid fenced off in large\\nfields of lo.itj acres each, and the tax\\nfell to $ii!t.\" all brought about by\\nprohibition. Kansas has onlv one\\nthird as many in h\\'-r insane asylum\\nand one-half as mane jn t),. peniten\\ntiary as they bad in 1 sso. with Hire.-\\ntimes the population.\\nOhio last year, in la\\nasylums, maintained ;\\nof persons, at a\\nw hen he breaks\\' the law. Tlif clergy\\nmen, who have been (Hinted\" against\\nprohibition in recent articles in the\\nPh.ienix papers would resent with un\\nspeakable contempt the use to which\\ntheir names have been degraded. Im\\nagine, if you can. Rev. Phillips Brooks,\\nKramis Murphy, R.-v. Howard Crosby.\\nRev. Robert liurditte. Rev. Minot J\\nSavage and the l.\\'nitaritin and Roman\\nCatholic clergymen who have been\\n(pioted as in favor of the saloon\\nwhether fairly or unfairly it does not\\nmatter) liiunn up with th brewers,\\ndistillers, and saloon keepers of this,\\nor any other city. It is unthinkable.\\nThese men do not live in tbe same at\\nmosphere with the makers and dis\\npensers of rum and ruin. The purpose\\nof tfrrir lives is to uplift and save\\nmankind. What fellowship have they\\nwith th.ye whose sole Work Is to poi\\nsrfri society and destroy the bodies and\\nsouls of men? The men who make\\n. uch use of the utterances of minis\\nters are either too blind\". 1 by drink to\\n.-ee where th.se men really stand, or\\nthey are too corrupt to .are. It is\\nthe rankest hypocrisy to pretend that\\nthese religious teachers and leaders\\nare in any sort of agreement with the\\ndrink evil. Xn! The ministers who\\nfavor license, as a choice of evils, do\\nso because they helicvi Ibpior dealers\\ncannot be trusted and that unless they\\nbecome secret law breakers and crim\\ninals more niffi.-ult to convict and\\ncontrol. With this i-irre. t understand\\ning of the ininiste.\\'s 111 .live and his\\nestimate of the litpior selling frater\\nnity, the publicity committee cf the\\nsaloon interests is welcome to make\\nfurther quotations.\\nGZ\\nw\\nI\\n3!0K\\n- - - 1\\nr 1 n 1 is\\nmil uioines\\nFOR YOUNG MEN\\nStyle is hard to express in words,\\nit is made up i t el. nients that baffle\\nthe pen.\\nThis model is made in accordance\\nwith tile most advanced style of this\\nseason.\\nEASE GRACE POISE\\nIt bestows all. Yoil\\'ll !lickly See\\nthe superior excellence of the material tpl\\nmid the exceptional high grade workmanship.\\nThis Model\\n4- &1T TO B\\nOther Models at $12.50 to $22.50\\nPositive!? cored by\\nthese Liltle l\\'ills.\\nT\\'ac-y ola) rcUc-vo Els\\ntress frota Dj-spcpsU. la-\\nai.-ftlir, rewl T,io TTenrt.v\\nI I l F B Eating; A perfect rwa-\\nI V bll I edv for Dizziness. Kansca,\\nDrowslceci Cud Taste\\nIn t\\'ja Kontn, Coated\\nTonpte, Kiln la tie side,\\nTOKITD IJVEK. TMC7\\nSMALL FILL Si&LL CGSE. SMALL PRICE.\\nYou\\'ll do\\n3etter ai\\nCARTER\\'S\\n1\\nJj PILLS.\\nOutfitters j\\nto Men !\\nand Coys O\\nOS\\nPhoenix\\n1 1 CARTERS\\nfITTLF\\nIVER\\nPILLS.\\nCURE SICK IiLDACI!E. !\\nGenuine Wust Bcr i\\nFi:-Siioile Signature !\\nParker Hotel\\nEUROPEAN FLAN.\\nRooms and Restaurant, i\\'irst-elass\\nservice. The only Hotel in\\nParker, Arizona,\\nP. Tisdale, Prop. \\'\\nFORESTERS, ATTENTION\\nAll members of Court Hassayampa\\nXo. libs 1. o. K. are requested to\\nmeet at I-amson\\'s Hall. :ir p. in..\\nWed. April Tl. V.b. to attend the\\nfuneral of our late Brother, Chas\\nChas. Cittner. C. V. CISXKY.\\nC. P. PRICK C. R.\\nRecording Secret. try.\\n1 :\\n.r .\\nMOTORCYCLES, BICYCLES\\nTires. Sundr;e3 and Repairing.\\nA few rebuilt Bicycle bargains.\\nARIZONA MOTOR CO,\\n31 South First Avenue.\\nPhone Red 537.\\nTHE MISSION\\nA resort for gentlemen. The\\noriginal BUDWEISER BEER\\non draught.\\nFRANK CONNELLEY, Prop.\\nMoore & McLellan\\nUndertakers and Embalmer. .\\nLady Assistant\\nti West Adams Sreot\\nTelephone Mala 122.\\nK (Ml 1\\nfc-\\' OILfl\\nt MAN\\n\\'THE BEST ALWAYS\\nLook for I\\nthe name\\non the\\nselvedge\\nr \\'-ight insane\\ndaily average 1\\nc.st of ji.t:;:- 1\\nG rf E A PER.\\n? I\\nFirst-Class Dry Mesqrjite Wood\\nZf Per Cord, Corded Up In Your\\npJ,JJ Yard\\nStove Wood $6.00\\nPHOENIX WOOD & COAL 00.\\nPhone Main 136\\nV,\\n-\\'\\'VjL\\' i\".\"ra \"\\' \"\\'3\\nfmms\\n(4!..:W. Now 71 per i cia or this i .\\'iised j\\nthe people In Ohio to piv Jl. ?,\\':,. I 1 ?i\\nher imbecile asylum, there was a daily\\nav-rage of l.ssn; ,-o.-l $17J.i4.\"...\".l : !\\'S I T a\\ncent of this came from drunken par- ff\\ni-nts. making J1\\'.s.:.!!.r.i. Ohio blind asy\\nhim. daily averages \\'T, 7 : cost $!i\\'c\\'.!f.S.- 1 i J\\ns. Ohio de. if and dumb asylum, i fj\\ndaily average of 4;4: cost ll!i.iT.7.47.\\nOhio boy\\'s refoim school, d lily average\\nof 7.IW: cost $l.:.iif.2.4,. Ohio girls\\' re\\nform school dailv average of 44\"; i ost\\n$rd.\":(9.27. How mai.y of these cam.!\\nfrom drink I can\\'t say. but no doubt\\na large proportion, especially of those\\nsent to the reform schools.\\nKansas. I hear, has sold ill her \"poor\\nfarms \"don\\'t need them any more.\\nOhio has eighty-eight \"poor farms\" ;,t\\nan annual expense of 1.\\'mi.i.iiimi. and\\nthose sent there by drink cost us year- 1\\n! ly $7.\".o.Mni. Ohio\\'s cighty-eiuht jail\\nare nearlv all full, and drink is what\\n! fills them. Ohio has nearly eighty\\n; eight orphans\\' home, much caused by 1\\n! drink of parents. Plentv of work- j\\nhouses, a large p.-nitenli iry and re-\\ni forniatory. so fu\\'l they must build\\nj others. Where will be land? Fight in-\\nI sane asylums anil two more unuel a. ;\\nland many other institutions must have;\\nj additions also. In the last few years \\'\\n! have looked after lands In V.K counties :\\n; in Ohio. Indiana. Illinois. Mexico. Iowa.,\\nJ Kansas and Nebraska. Taxes ate the\\n: highest in obio and lowest in Kansas.\\nI If we carry prohibition i l Ohio, in a i\\n\\' few .cars we w ill be selling sonic\\n\\' insane asylums, poor farms, etc.. and j\\nI our taxes w ill fall off 7\" per c-nt.\\nI James ltu. kingbam ia Ohio Karm\\'r. .\\nTUSSORAH\"\\nThis is the name given to a rich fabric of rough appearance that is destined to become THE popular silk\\nof tua seaun.\\nIts weave closely resembles the crude product of the \"EAST INDIAN\" hand-loom, but despite its artistic\\nally irregular surface \"TUSSORAH\" silk possess of texture that insures its durability.\\nIt is difficult to describe the exouisite beauty of this fabric, so soft to the touch, so rich in coloring, so\\nrefined in its general appearance.\\nThere is no style of dress to which \"Tussorah\" silk is not most admirably suited. So\\' carefully is it\\nwoven that all danger of thread pulling out in the scams is cbviated. \"Tussorah\" silk is made in a wide range\\ncf colors suitable for the street. Its price is s.o reasonable that it is within rerch of the home dress-maker as\\nwell as the woman of fashion.\\nLOOK FOR THE NAME. If it is Tussorah, \"TUSSORAH\" will be stamped on the selvedge.\\nIt is 24 inches wide and comes in but ONE quality. Vi\\'e have it in Gray. Dk. Reseda. Navy, Brown\\nCopenhagen and Helio. The SILK PAR-EXCELLENC E. All pure silk. The price is\\n$1.00\\nWhite Linen Skirts\\nOf the best quality white linens in all the latest\\nstyles, some tucked, seme with folds and others\\ntrimmed with wide embroidery insertion. Every\\nskirt thoroughly man tailored and perfect fitting.\\nPrices range from , SS.GO S 120. 00\\nWhite Dress Skirts\\nOf very good quality white French PK. Perfect fitting\\nFieaied and man tailored and every skirt .perfect\\nmodal. Specially nricedat gg QQ\\nSOMETHING NEW\\nP.majah cloth Dress Skirts. This\\nnew popular cloth resembles Rajah\\nSilk. The colors are the latest\\nshades of brown, tan, Copenhagen,\\nnavy and black: fifteen gore skirts\\nwith foi ls around the bottom. ee\\ntin-in at our annex. Kxecllcnt val-\\n:i S13..\"S0 S13.00\\nSilk Petticoats\\nA new 1 it of Fancy Silk Petticoats\\nin popular shades, made with 12\\ninch dust ruffles and 5 bias bands\\nof good .piality taffeta. Very spe\\ncial values at SG.50\\nSKIRT SPECIAL\\nLadies\\' Mohair Skirts of excellent\\nquality, very well mail\", stitched\\npleated down the front with 3 grad\\nuated folds around the bottom,\\nmade of fine ipiality English Mo\\nhair in black, white, gray, navy,\\ntan. and brown: regular $l\".0i val\\nues. Kverv Skirt in the lot is a\\ntailored model. Secia! S7.50\\nIf you do not get your Spring Hat\\nat Francis\\' you may not get what\\nwould m st satisfy and delight you.\\nSee our big display of snappy styles\\nin all latest trimmed and untrim\\nnied slinp.-s. fb-t i.lei.s of whn.t is\\nright and in style this season, by\\ncalling on us.\\nCLOAK AND\\nSUIT HOUSE\\nj \\' The License Minister.\\nI\\' is or.e or the chnracterisiie of-.\\nf.-ets of intoxicating Ibpior. that it uf- i\\nfects tie- eves. It causes men to see\\nj double, to see snakes, and to fail to\\nj see what they ought to see. This is\\nthe physical conse-ini-nce of drink. ;\\ni The mental vision is in like manner\\niv.arped by drink and association with\\nI liiiaor. Cons, ience and jiidgmi tit both\\ni suffer deterioration in those who are\\nI connected either directly or indirect-!\\nly w ith the I i habit. Tin- advo-j\\ncute. of tbe saloon dnlight to ipmte\\nthe utterances of certain ministers of\\ntile gospel in favor of the license sys\\ntem, or in advocacy of the moral and\\nspiritual remedy for the drink habit;\\nas against any attempt to cure appe- \\'\\ntitr by legislation, as though these ut- bt\\n((.run ew wore f:: V\\'rirf lite to the SMloon A\\nThere are two essential facts to which\\nt\\'ae friends of the saloon seem strange\\nly blind. First, that every one of\\nthese ministers is in favor of teiner-\\nnnce and opposed to drinking, accept- C\\ning the license system solely because fj\\nii seems in .iicio I\" ii\\'niu.-.i: win.- i.\\nstruction of the sale of liquor. Sec-\\nond. they fear prohibition simply be- jj\\ncause they recognize the fact that the i If\\nliquor business is everywhere in tlie.t\\nhands of law breaking, unscrupulous . r.\\nand selfish men who cannot be trusted ,\\nto obey the statutes or regard the j g\\nwelfare or the good name of their f\\ncommunity. They vote for license only j Fj\\nbecause they believe that the liquor ; ft\\nseller can be more easily and closely\\nwatched and more readily convicted\\nN\\nUnion Suits\\nLadies fine bleached cottcn Jersey ribbed union\\ntuits, umbrella pants, \\'ade trimmed. Low neck and\\nno sleeves, regular and out sires all at one price.\\nPer suit\\nKimono Silks\\nOf nice quality in beautiful floral designs in sev\\neral very pretty colors, 30 inches wide, and will\\'make\\nhandsome Kimonos. Price per yd T3\\nMen\\'s Fancy Hose\\nMen\\'s Jacquard latest novelty -p rime fancy Lisle Hose\\nin checks, plaids and stripes: excellent quality and\\nnew colors. Special value 3 pairs for S1.00\\nMen\\'s Night Shirts\\nOf good quality Muslin: no collars, and neatly fin\\nished with finishing braid; full si:es; regular 7,1c\\n;;oo.ls. Sale at -40\\nDuring Warm Weather\\nwhen every family\\nwants the best foods\\nprepared with the\\nN least anxiety, it Is\\nweli to call attention\\nthat\\nPERFECT\\nOR\\nDAISY FLOUR.\\nwill give the best re\\nsults in the bread\\nstuff line, and you\\nwill always have\\nsweet, light, healthy\\nBREAD\\nBOTH BRANDS OF FLOUR.\\nFOR SALE BY ALL\\nGROCERS\\nManufactured by\\nVALLEY FLOUR MILLS.\\nPhoenix, Arizona.\\nShoe Talk\\nIndies\\' Tan Calf Pump, leather\\nbow. welt sole; can\\'t slip at the\\nheel; very swell and new..S4.00\\nLadies Tan Calf P.Iuc-her cut ox\\nf tr-A tip toe extension sole med\\nium heel and a servicuble wearing\\nshoe S2.50\\nLadies\\' Oxblood Calf Oxford, bluch\\ner cut, welt sole, military heel, ob\\nlong eyelets, trimmings black; the\\nvery- new swell shoe for Easter.\\nPrice ; An\\n\\'lKl.7-.v2\\nOur Pat Colt\\nBlue her Oxford\\n$3.50\\nShoe Talk\\nLadies\\' Tan Calf Oxford, blucher\\ncut, made on tlje new pointed toe\\nlast, w.-lt s le and military heel.\\nr,ice Si.00\\nLadies\\' Yellow Tan Calf, 2 strap\\nPump, gilt buckles, very stylish,\\nwelt sole and plain toe S3. 00\\nLadies\\' Pat. Kid or French Kid. 3\\nbutton oxford, turn sole, military\\nheel, made on the new short vamp\\nlast. Price S3.50\\nLadies\\' Tat. Kid Pump, welt or turn\\nsoles. \\'can\\'t slip at the heel; a new\\nthing in the pump line S4.50\\nran Ejnmmncfe Jraaim w M l js a jjmgjBi\\nAN ABLEJPEGIALIST\\nPreeminently Successful, Thoroughly Re\\nliable and Progressively\\nUp-to-Date.\\nDr. Hibbard\\'a uniform\\nsuo-etis in curing chron\\nic d\\'eesres has won bim\\nin extended reputation.\\nKvary case ia carefully\\ntu.lk-d and require\\nment!, for special skill\\nful t rent me Dt arc mor\\n9 n g h 1 y inresi igated.\\nThere-is no gm-sn work\\nbut absolute knowledge\\nThe latest ditt-overiei\\nof scicuce are applie. \\'\\nin tne cuimg ot oostiate and complicate\\nrn-.es which Iikva been thought tncurabli\\nDELAY IS DANGEROUS. Are jon snflerin\\n(nun me clirouie affection? Mate no mi: -take,\\nKefclore tour health and slrengta before\\nit is too late. Get Expert Medical Treatment.\\nCnnaty, Kidney, HU.bitr, special and private\\ncomplaints treated wiih prompt and perma\\nnent results. Tbe doctor is a graduate ot\\nHarvard, one of the best medical schools in\\nthe world He has had an experience of over\\nJOycars and ha the complete confidence atd\\nfull indorsement of the leading business mei\\nand prominent citizens of the southwest.\\nCancer and External Growths Successful\\nly BemoTed Withaat the Haifa ar Sever\\nMeasures.\\nDR. HIBBARD,\\nHibbard Building. 26-J8 South Second Are.\\nline, hhocnix. Arizona. Caaraltatiom fiwa.\\nHonrs 10-12.1 3. .\\nLatest Easter Gift Newest\\n. Donofrio Cactus Candy\\nAn Arizona product\\nPut up in handsome embossed boxes.\\n. 1\\nii\\n1'"
      ]
     },
     "execution_count": 2,
     "metadata": {},
     "output_type": "execute_result"
    }
   ],
   "source": [
    "r['items'][0]['ocr_eng'] #here is an example of a newspaper page pulled down from \"Chronicaling America\""
   ]
  },
  {
   "cell_type": "markdown",
   "metadata": {},
   "source": [
    "Here I searched the \"Chronicaling America\" database for pages containing my target phrase \"America First\" from 1900-1922"
   ]
  },
  {
   "cell_type": "code",
   "execution_count": 3,
   "metadata": {},
   "outputs": [],
   "source": [
    "af_search = requests.get('https://chroniclingamerica.loc.gov/search/pages/results/?state=&date1=1900&date2=1922&proxtext=%22America+first%22&x=0&y=0&dateFilterType=yearRange&searchType=basic&format=json').json()"
   ]
  },
  {
   "cell_type": "markdown",
   "metadata": {},
   "source": [
    "Here I've searched for all the pages that CA has from 1900 - 1922"
   ]
  },
  {
   "cell_type": "code",
   "execution_count": 4,
   "metadata": {},
   "outputs": [],
   "source": [
    "total = requests.get('https://chroniclingamerica.loc.gov/search/pages/results/?state=&date1=1900&date2=1922&proxtext=&x=16&y=16&dateFilterType=yearRange&rows=20&searchType=basic&format=json').json()"
   ]
  },
  {
   "cell_type": "markdown",
   "metadata": {},
   "source": [
    "Here I've printed out how many pages have \"America First\" and how many there are total"
   ]
  },
  {
   "cell_type": "code",
   "execution_count": 5,
   "metadata": {},
   "outputs": [
    {
     "name": "stdout",
     "output_type": "stream",
     "text": [
      "79734\n",
      "7826804\n"
     ]
    }
   ],
   "source": [
    "print(af_search[\"totalItems\"])\n",
    "print(total[\"totalItems\"])"
   ]
  },
  {
   "cell_type": "code",
   "execution_count": 6,
   "metadata": {},
   "outputs": [
    {
     "data": {
      "text/plain": [
       "{'alt_title': ['Call', 'Call-chronicle-examiner', 'Sunday call'],\n",
       " 'batch': 'batch_curiv_brea_ver01',\n",
       " 'city': ['San Francisco'],\n",
       " 'country': 'California',\n",
       " 'county': ['San Francisco'],\n",
       " 'date': '19010614',\n",
       " 'edition': None,\n",
       " 'edition_label': '',\n",
       " 'end_year': 1913,\n",
       " 'frequency': 'Daily',\n",
       " 'id': '/lccn/sn85066387/1901-06-14/ed-1/seq-5/',\n",
       " 'language': ['English'],\n",
       " 'lccn': 'sn85066387',\n",
       " 'note': ['\"San Francisco\" appears above, and later across, masthead ornament.',\n",
       "  'Also issued online.',\n",
       "  'Archived issues are available in digital format from the Library of Congress Chronicling America online collection.',\n",
       "  'Issued with a joint ed. of the San Francisco chronicle and the San Francisco examiner on the day after the San Francisco earthquake, Apr. 19, 1906.',\n",
       "  'Master negatives are available for duplication from:',\n",
       "  'Publishers: Charles M. Shortridge, <1896>; John D. Spreckles, <1899>.'],\n",
       " 'ocr_eng': 'Grand vice presidents. Miss Elizv D.\\nKeith of Alta Parlor. San Francisco; Misa\\nDora Semudoroski of El Pajaro Parlor.\\n\"W\\'atsonvllle; grand secretary. Laura J.\\nFrakes of Amapola Parlor, Sutter Creek;\\nLizzie Douglass of Alta Parlor, San Fran\\ncisco: &rand treasurer, Amanda Hammcr\\nly of Piedmont Parlor, Oakland; grand\\nmarshal. Harriet S. Lee of Woodland Par\\nlor, Woodland; Emma G. Foley of Orinc\"a\\nParlor, Ean Francisco; grand Inside senti\\nnel. Nellie Henderson of Santa Paula Par-\\'\\nlor; grand outside sentinel, Mrs. Eva Bus\\nsoni of La Espana Parlor, Los Angeles;\\nboard of grand trustees — Rose Crukon,\\nJoaquln Parlor. Stockton; Maud Wood, La\\nBandera, Sacramento; Ella Caminetti,\\nUrsula, Jackson; Frances Barton, Fre\\nmont, San Francisco; Addle Bagley, Chls\\npa. lone; Ariana Stirling. Aleli. Salinas;\\nwas the nomination of officers to\\nbe voted on to-morrow morning. Mrs.\\nOenevieve Baker, Buena Vista Parlor No.\\nCS of San Francisco, the present . vice\\npresident, was nominated for grand presi\\ndent to succeed Mrs. Ema Gett. Then\\nfollowed these nominations:\\nSACRAMENTO. June 13.— The im\\nportant work of to-day\\'s session,\\nof the Grand Parlor of the Native\\nDaughters of the Golden West\\nSpecial Dispatch to The Call.\\nNATIVE DAUGHTERS OF THE GOLDEN\" WEST WHO ARE TAKING *A CON\\nSPICUOUS PART IN THE PROCEEDINGS OF THE GRAND PARJ.OR OF\\nTHE ORDER IN SESSION AT THE STATE CAPITAL.\\nSpecial Correspondence of The Call.\\nj\\nHONOLULU, June \".—The steamer\\nAmerica Maru carried away from Hono\\nlulu a man who if his performance come\\nup to his promises will help ere long to\\nmake history Jn the troubled empire of\\nChina. He is Dr. Sin Yet Sun, one of the\\nChinese patriots who a few years ago\\ncaused a sensation in London by being\\nSin \\'Yet Sun Will Head\\na New Revolutionary\\nMovement.\\nCHINESE READY\\nFOR REREELION\\nAHson Watt, Manzanlta, Grass Valley;\\nEmma Thelrbach, La Estrella: Delia\\nShine, Dardanelles, Sonoma; Evyline An\\nderson, Oro Fino; San Francisco; Dora\\nThe only route having through sleeping\\ncar service between San Francisco and St.\\nLouis daily. Stop-overs allowed, at? Salt\\nLake City. For: full information : ask L.\\nM. Fletcher. 212. California street. . ;:• 7\\n\"The Missouri Pacific Limited\"\\nDaylight Train Bstween San Fran\\ncisco and Santa Barbara. .\\nSouthern Pacific daylight train dining\\ncar service. Leave San Francisco 8 a. nv,\\narrive Santa Barbara 9:25 p. m. Leave\\nSanta Barbara 6:15 a. m.. arrive- San\\nFrancisco 7:30 r>. m. .\\'Effective Sunday, the\\n16th lnst. One of the most beautiful day\\nlight trips In the world. ¦\\nGALENA, , Mo.. June \\' 13.— Mrs. • John\\nStallion, her father,\\' Thomas Crabtree,\\nand the lattor\\'s two sons, James and\\nFrank Crabtree. who have been having a\\npreliminary hearing her^ the past \" week\\non the charge of murdering Alice Stallion,\\nthe woman\\'s 16-year-old stepdaughter,\\nhave been held for trial at the October\\nterm. The bonds of Mrs. Stallion and\\nJames Crabtree were fixed at $1000 each,\\nand - those of +.he - Crabtree boys | at $5000\\neach: Deep .Interest is stHl manifested,\\nbut there is now no fear of lynching. \\' t\\nHeld for Murder in Light Bail.\\nGovernorship of Territory of\\nHawaii. y\\nHONOLULU, June 7.— United States\\nDistrict Judge \\'Morris M. Estee denies\\nthe report in 3an Francisco that he in\\ntends to try for the Governorship of this\\nTerritory upon the close of Governor\\nDole\\'s present term or in case of the con\\ntinued disability of the executive. Judge\\nKstee states that he is not a citizen of the\\nTerritory and that he does not feel that\\nhe*ls qualified for the position of Gov\\nernor. He is perfectly content to remain\\nhere on the bench. \"I have never -been\\nmore in earnest in my life when I say to\\nyou candidly,\" he is quoted as stating,\\n\"that 1 do not v/ant to be appointed Gov\\nernor of the Territory of Hawaii, nor do\\nI believe that President McKinley has\\nany intention of appointing me.\"\\nNo Drawback on Shipments.\\nWASHINGTON. June 13.— The Secre\\ntary of the Treasury, acting under the re\\ncent decisions of the United States Su\\npreme Court in the Insular cases, has\\nheld that no drawback can be allowed on\\nmerchandise shipped to the ..Hawaiian\\nIslands after January 7, 1S98, these isl\\nands having ceased to be a foreign coun-.\\ntry within the meaning of the tariff laws\\nunder the joint resolution of Congress\\nannexing the islands to the United States,\\napproved on that date.\\nSays That He Does Not Aspire to\\nJUDGE ESTEE SATISFIED\\nTO BjEMAIN ON THE BENCK\\nKANSAS CITY, June 13. —The case of\\nLulu Prince Kennedy, who killed her hus\\nband in January last because he refused\\nto live with her after a forced marriage,\\nwill \" probably go to the jury to-morrow\\nevening. The taking of testimony was fin\\nished this afternoon and arguments will\\nbegin to-morrow morning.\\nThe defense sufferecNa second setback\\nto-day, when Judge Wofford ruled out a\\nconversation with Kennedy before the\\nkilling tending to -corroborate evidence\\noffered- yesterday to prove that Kennedy\\nhad admitted having ruined Lulu Prince.\\nFurther expert testimony to prove that\\nthe defendant was temporarily insane at\\nthe time of the shooting was offered, and\\nBert Prince, one of the quartet of alleged\\nconspirators, again took the stand, this\\ntime for the defense ,and to prove an\\nalibi for himself. He denied that he had\\npredicted Kennedy\\'s murder.\\nMrs. Kennedy appeared much distressed\\nand cried frequently, during the day. ;\\nSmelter Will Resume Operations.\\nBUTTE, Mont., June 13.— The Butte and\\nBoston, smelter, which has-been closed\\nfor some weeks on account of the refusal\\nof the company to grant outside labor the\\neight hour day provided* for miners and\\nsmeltermert. will begin operations to-mor\\nrow. The machinists still remain out and\\nthe machine shop will remain closed. Tha\\nsmelter employs about 300 men. but tho\\nstarting up affects many times that num\\nber In the mines, v \\' ¦ .. \\\\ :\\nDeath. of Ex-Premier of Ontario.\\n• TORONTO,\\' Ont., June 13.— A..S. Hardy,\\nex-Premier of Ontario, died at -: the Gen\\neral Hospital to-night as the result of an\\noperation for appendicitis.\\nDefense Attempts to Prove That Pris\\noner Was Insana at Time of\\n.Killing.\\nKENNEDY MURDER THIAL\\nIS DRAWING TO AN END\\nBeen Before Heard in the\\nCourts.\\nNEW YORK, June 13.-Axel Hellen\\nberg, a stock broker, has through his\\ncounsel applied to Justice Gildersleeve, in\\nthe Supreme Court, for a receiver for the\\nCobre Grande Copper Company of Ari\\nzona and an injunction restraining it from\\ndisposing of any of its property pending\\naction. The Justice allowed the counsel\\ninterested until .to-morrow to submit\\nbriefs. • • _\\nThe controversy over the mines or the\\ncompany has extended over a period of\\ntwo years, principally in Arizona, and the\\npresent suit is an attempt upon the part\\nof Mr. Hallenberg to get a hearing\\'ln the\\nNew York courts.\\nMr. Greene, one of the defendants in\\nthe present suit, was in New York on\\nMay 28, and personal service of the sum\\nmons and complaint in an application for\\nan injunction was made upon him at that\\ntime, not only in his individual capacity,\\nbut as president of the Greene Consoli\\ndated Copper Company. Since that time\\nstrenuous efforts have «been \\'made by his\\ncounsel to have the case dismissed on the\\nground of the want of jurisdiction and\\nthat the controversy should be remitted\\nto Arizona. A motion to that \"effect was\\nrecently denied. ...\\nControversy. .Over the Property Has\\nSUES. TO PBEVENT SALE\\nOF ARIZONA COPPEB MINE\\n\"My heart\\'s desire is to see China freed\\nfrom oppression. America is my ideal.\\nWith a President at the head of affairs\\nin China and the people the ruling power\\nyou will see tiiy country develop and\\nforge ahead with astonishing rapidity.\"\\n\"This is my third attempt at a revolu\\ntion in China, ond I think it will be suc\\ncessful, for we are better organized this\\ntime and have a force at our backs that\\nwill make the Dowager Empress and her\\nmandarins tremble.\\n\"The Chinese are not alone in this\\nmovement. Hundreds of v/hite men, well\\nto-do merchants and others living in Chi\\nna, are with us and giving us material\\nassistance.\\nkidnaped by agents of the Chinese lega\\ntion and was released after a growl from\\nthe British lion.\\nDr. Sun was born in Hawaii and re\\nceived his early education at Iolani Col\\nlege, conducted by Bishop Willis of the\\nAnglican church. He obtained his medi\\ncal diploma in London. Before leaving\\nhere on Wednesday he talked freely. ; •\\n\"Are you not afraid of losing your\\nhead?\" was asked. This started the rev\\nolutionist, who arswered:\\n\"No. I am not afraid of losing my head.\\nI shall, upon setting foot in China, com\\nmunicate with the men nearest me who\\n.have sworn to uphold the cause of the\\nrevolution. The Government police of\\nficers or soldiers will not touch me, for\\nthey are afraid.\\n\"We are ready to strike now. and a\\nshort time after my arrival Jn China you\\nmay expect to hear of momentous hap\\npenings. The arms and ammunition of\\nthe /evolutionists have been spread\\nthroughout China through secret agencies\\nand the men v.-ho have sworn to uphold\\nthe cause even to the death are ready\\nand anxicus to begin work. There will be\\nbloodshed, and plenty of it. An amicable\\nsettlement is out of- the question.\\n\"Wilson, Bonlta, Redwood City; Stella\\nKilkeldcy, Santa Cruz, Santa Cruz. r.\\nThe election will be the first order of\\nbusiness to-morrow. The • board of trus\\ntees was increased to nine, who are also\\nto be known as the board of directors. As\\nonly seven trustees are to be chosen a\\nlively contest is looked for.\\nGrand President Gett presented the\\nGrand Parlor with a full set of the pro\\nceedings of the Grand Parlor for the past\\nPAN-AMERICAN GROUNDS, BUFFA\\nLO, June 13.— The first of the series of na\\ntional \"track and field contests arranged\\nby the Amateur Athletic j Union for the\\nPan-American Exposition was held to-day\\nat the classic Stadium in the fair grounds.\\nTh^ heat set a limit upon attendance, but\\na large number of athletes came to meas\\nure muscle and endurance and there was\\nan afternoon of spirited sport. No rec\\nords wore smashed, but some of the time\\nmade and distances covered was close to\\nthe standards that have been set. Of the\\nclubs represented the Knickerbocker Ath\\nletic Club cf New York scored the great\\nest number of victories for the day. ¦ Sum\\nmary: >\\nPutting 16-pound shot— A. G. Gunn, Central Y.\\nM. C. A., Buffalo, three feet handicap, won,\\n43 feet 11- inches; John Flanagan. N. Y. A. C,\\ntwo fe-t handicap, second, 42 feet 3% inches;\\nTimothy O\\'Rourke, Toronto La Crosse Club,\\nfive feet handicap, third, 39 feet 1 Inch.. .\\n880-yard run— Irvine Orten, Toronto La Crosse\\nClub, 15 yards, won; H. H. Thurlow, Seventy\\nfourth regiment, 18 yards, second: G. B. Hol\\nbrook, K. A. C, 2 yards, third. Time, 2:00 1-5.\\nICO-yard run— George Hoffman, 6 yards, won ;\\nS. W. Kd wards, 4 yards, second; A. W. Bur\\nlingame. 6 yards, third. Time, :9 4-5. . •\\n120-yard hurdle race — W. J. • Feldkamp.\\' Pas\\ntime A. C, 10 yards, won; \"Walter Fishleigh;\\nDetroit A. C. scratch, second; Dan Reuss, U.\\nA. C, 10 yards, third. Time, :16.\\nOne mile run— Frank M. Kanahy, Cambrldge>\\nport G. A. A., 10 yards, won; R. L. Sanford.\\nK. A. C. 15 yards, second; G. H. McCormick,\\nunattached, Buffalo, 85 yards, third. Time,\\n4:314-5. • .\\n440-yard run— P. A. Eayles, K. A. C, 14 yard3,\\nwon. Time, :51.\\n220-yard run — A^ W. Burlingame, K. \"A. C, 11\\nyards, won. Time, :22 2-5. •-¦•.«\\nThrowing 16-pound hammer— John R. Dewltt,\\nPrinceton, won. actual, throw 149 feet 1 inch\\n(handicap 12 feet); John Flanagan, N. Y. A. C,\\nsecond/ actual throw 159 feet 4 inches (scratch).\\nPole vault— W. J. Fishleigh. Detroit A. C,\\nwon; actual Jump, 10 feet 8 inches (handicap\\n4 inches). . .\\n220-yard hurdles— J. J. Nuffer, Detroit A. C,\\nwon. Time* :26. - ,-¦\\nRunning broad jump — W. S. Edwards, K.\" A\\nC, won; -actual jump, 22 feet 7 inches (handi\\ncap 8 inches): \\'\\nThrowing the discus— John R. Dewitt, Prince\\nton, v/on; actual throw, 115 feet \" 10 • inches\\n(handicap 10 feet). •. . ¦\\nRunning high jump — Edward E. Mayer A A\\nC. won; Jump, 5 feet 6 inches .(handicap \\'3\\nInches). . . ..;,•,\\nFive-mile run— George W. Orton, N. Y. A. C,\\nscratch, won. Time, 28:512-5.\\nThrowing 56-pound weight — Timothy O\\'Rourke,\\nToronto, won; actual throw, 30 feet (handicap\\n3 feet). •, ¦ \\' -\\nAmateur Contests Begin\\nat the Pan- American\\nExposition.\\nThis afternoon the delegates were en\\ntertained at a reception given at her resi\\ndence by Mrs. Charles T. Barton., To\\nnight the Native Daughters were the\\nguests of the Native Sons on a ride up the\\nSacramento River. The session ,will con\\nclude to-morrow.\\nATHLETES TEST\\nTHEIR PROWESS\\nthree years, handsomely bound. She was\\nthanked by a rising vote of the Grand\\nParlor. Permission was granted subor\\ndinate parlors to hold executive session3.\\nFour furlongs — Foundling won. Wedding\\nMarch second. Ben Hullum third. Time, :4S%.\\nOne mlle-i-Charlie O\\'Brien won. Baronet sec\\nond. Toluca third.. Time, 1:40.\\nOne mile and a half, selling— Edna Gerry won,\\nBentley B second, Albert Vale third. Time\\n2:20%. : \\'\\nDETROIT, Mich., June 13.— Highland Park\\nsummaries:\\nSeven furlongs, selling— Silver Garter won.\\nBean «ccnd; Lady Hayman third. Time, 1:28%.\\nFive furlongs— Ben Howard wen. Newton W\\nsecond, Bourbon third. Time, l:02U.\\' .\\nOne mile and a sixteenth— Warrant won,\\nJeanot second, J. H. Sloan third. Time, 1:49.\\n., Six furlongs— By George won, Masterful sec\\nond, Ziegfeld third.* Time. 1:13. ! r -7,\\nFive furlongs, selling— St. Hera won, Easter\\nBoy second. King Ford third. Time, l:02V£.\\nSix furlongs, selling— Flying Besa won. Our\\nLizzie second, St. David third. Time, 1:14%.\\n\" CHICAGO, June 13.— Harlem summaries:\\nFive furlongs — Stuyve won. . Jaubert second,\\nSly Maid third. Time, 1:05 3-5.\\nOne mile— Senator Bevertdge won. Automaton\\nsecond. Adelante third. Time, 1:47 2-5.\\n* Six furlongs— Maggie Davis won. Princess\\nThyra second. Sharp Bird third. Time, 1:19 3-5.\\n\\' Mile and twenty yards— Ben Chance won,\\nOdnor second. Myth third. Time, 1:49 3-5.\\nMile and - twenty yards— Bill Mas3le won,\\nMoses second. Our Nellie third. Time. 1:48 3-3.\\nOne mile and twenty yards — Baird won, Lis-\\nBome second. Give All third. Time, 1:49 1-5.\\nOne mile, selling:— Sarner won. Hurry\" second,\\nTuskarosa third.\\' Time. 1:41. ;\\n\\'CINCINNATI, June 13.— Newport summaries:\\nSeven furlongs, selling— Little Rita won, Py\\nramo second, Rod third. Time, 1:28^4.\\nFour and a half, furlongs— Dash -won, Jigger\\nsecond, Faleta third. Time. :5oVi.\\nSix furlongs, selling— Nancy Till won,\" Prin\\ncess Evelyn second, AmonTsa third. Time,\\n1:14^.\\nNEW YORK, : June 13.— The Brooklyn\\nDerby and the Tremont stakes, of\\n$10,000 each, v/ere the features\\' at the\\nGravesend race track to-day and served\\nto draw a big: crowd. The conditions were\\nfavorable for a good day\\'s sport and a\\ngood entry as well. Commando, AH\\nGreen and Bellario were withdrawn from\\nthe derby, leaving The Parader, Blues and\\nBonnibert to fight for the rich prize. The\\nParader, made the running for a* mile and\\na quarter, with Blues well\\' up and Bonni\\nbert trailing. As they rounded into the\\nstretch The Parader ran out and Bonni\\nbert, closing with a rush, came on and\\nwon easily by six lengths, while Blues\\nbeat the tired favorite a .length for the\\nplace. The time, 2:33 4-5, was fast and a\\nnew track record* -.-...• - .\\nThe Tremont \\'stakes resulted, in a big\\nupset. Whisky King, at 15 to 1, won easily\\nfrom Blue Girl. , Saturday was a hot fa\\nvorite, \"while Blue Girl was second choice.\\nTo a good start; Saturday and The Gold\\nFinder went out to make the running and\\nshowed the way heads apart to the\\nstretch, at which point both tired and\\nWhisky King rushed to the front, fol\\nlowed by Blue Girl and Golden Cottage,\\nand in this order they finished, two\\nlengths apart. Results:\\nAbout six furlongs— King Pepper won, Dub\\nlin second, Heliobas third. Time, 1:09 3-5. >\\nOne mile and a sixteenth— The Golden Prince\\nwon, Wayward Bo£ second, Glade Run third.\\nTime, IMS.\\nThe Tremont stakes, . $10,000, about six fur\\nlongs, for two-year-olds— Whisky Kins, 115\\n(Odom), 15 to 1, won; Blue\\'Girl, 126 (T. Burns).\\n3 to 1 and even, second: Golden Cottage 115\\n(Mounce), 20 to 1 and 7 to 1. third. Time.\\n1:10 2-G. The Gold Finder, Saturday, Major\\nDangerfleld and Moydian also ran.\\nBrooklyn Derby, $10,000, one mile and a half—\\nBonnibert, HI (Spencer). 5 to 2, won; Blues 111\\n(Shaw), 2 to 1 and 2 to 5. second; The Parader,\\n126 (Landry), 7 to 5, third. Time, 2:33 4-5. Only\\nthree starters. • ,\\nFive furlongs, selling— Ascension won, Man of\\nWar second, Playlike third. Time, 1:01 4-5.\\nI One mile and 70 yards— Wax Taper won. Gold\\nSpinner second, Wallabout third. Time, 1:45.\\n~ST. LOUIS, June 13.— Fair. Grounds summa\\nries:\\n! Seven furlongs, selling— Sue Johnson won\\nBattus second, Ben Frost third. Time. 1:2734\\nFive and a half furlongs, selling— Has Gift\\nwon. Satchel second, Maria Elena third Time\\nj l:09Vi.\\nOne mile and a quarter, selling— Rushfields\\nwon, Eugenia S second, Zonne third. Time 2-08\\nSix and a half furlongs— Lady Strathmore\\nwon, Oudenarde second, Sinfl third. Tlm°\\n1:20%.\\nOne mile and seventy yards, selling— Miss\\nPatron won, Maximus second, Ladas third\\nTime, 1:47. . . . t\\nWhisky King, \"With Odom\\n, Up, Takes the Tremont\\n> Stakes.\\nThe Parader Finishes\\nLast in a Field of\\n\\' Three.\\nBONNIBERT WINS\\nBROOKLYN DERBY\\nTHE SAN FEANGISCO CALL, FRIDAY, , JUNE 14, 1901.\\n5\\nRepresentatives- of a Number of the Parlors Are Nominated\\nfor Offices by the Convention in Sacramento and a\\nLively Election Will Be Held. at the Capital To-Day\\nNATIVE DAUGHTERS SELECT MEMBERS\\nTO COMPETE FOR THE HIGH PLACES\\n*/l\\n3 ADVERTISEMENTS.\\nOCEAN TRAVEL.\\nPACIFIC STEAM NAVIGATION CO.\\nAnd CIA SUD AMERICANA DE VAPORES\\nTo Valparaiso, stopping at Mexican, Central\\nand South American ports. Sailing from How-\\nard-street wharf No. 3. 12 m.\\nCOLOMBIA ....June 18? AREQUIPA ....July —\\nTUCAPEL June 2T| LIMARI July —\\nThese steamers are built expressly for Cen-\\ntral and South American passenger service.\\n(No change at Acapulco^ or Panama). Freight\\nand pa«sensrer office. 318 California street.\\nBALFOUR, GUTHRIE & CO.. Gen. Agrents.\\nPANAMA R. R, s Sf\\nTO NEW YORK VIA PANAMA DIRECT.\\nCabin, $105; Steerage, *4O.\\nS. S. Argyll sails Sunday. Juno SO\\nS. S. Lcelanaw sails Monday, July IS\\nS. S. Argyll «ail» Monday. Au ft. 5\\nFrom Harrison-street Wharf at 2 p. m.\\n¦ \\' Freight and passenger office. 330 Market st.\\n\"F. F. CONNOR. Pacific Coast Agent.\\nSS. SONOMA (via Honolulu) for Samoa.\\nNew Zealand and Australia\\nThursday. June 20. 10 a. m.\\nSS. AUSTRALIA, for Tahiti\\nWednesday. June 26. 10 a. m.\\nSS. ZEALANDIA (Honolulu only)\\nSaturday June 29. 2 p. m.\\nJ. D. SPREGXEIS & BROS. CO., Eaneral Agents. 327 Hartst St\\nQen\\'I Passsngar Office, 843 Karfcst St., Pier la. 7. Paofis St\\nPacific Coast Steamship Co.\\n• \\\\ •* Steamers leave Broadway\\n.Wharf, San Francisco:\\nFor Alaskan ports — 11 a. m..\\nK^^KSt Ju=s 5. 10, 15. 20. 25. 30. July\\ngSprUcgthk 6- Change to company\\'s\\n• fclk PJKj%mS Eteamers at Seattle.\\n\\' BBaiSS^vlH For Victoria, Vancouver (B.\\n• IHgayVapaa \"C.). Port Townaend, .Seattle.\\nI t^\"^KiSSEn Tacoma, Everett. ¦ Ano20r~.es\\nand New Whatcom (Wa«h.)—\\n** 11 a. m.. June 5. 10. 15, 20, 25. JO.\\nJuly 5, and every fifth day thereafter. Change\\nat Seattle for this company\\'s steamers for\\nAlaska and G. N. Ry.: at Seattle or Tacoma\\nfor N P Ry.; at Vancouver to C. P. Ry.\\nFor Eureka and HumboWt Bay— 1:30 p. m..\\nJune J, 7, 11, 16. 21. 26, July 1. and every flith\\nday thereafter. _\\nFor San Diego, stopping only at Santa. .Bar-\\nbara, Port Los Angeles and Redondo (Los An-\\ngeles)— Steamer Queen. Wednesdays, 9 a. m :\\nsteamer Santa Rosa. Sundays, 9 a. m.\\nFor Los Angeles, calling at Santa. Cm*.\\nMonterey. San Simecn. Cayuccs. Port H-irford\\nfSan Luis Obiroo). Gaviota. Santa Barbara,\\nVentura, Hueneme. San Pedro. East San Pe-\\ndro. -Newport (-Corona only)— Steamer Corona.\\nSaturdays, 9V*. m.: steamer Bonlta, Tuesdays.\\nFor Ensenada. Majcdalcna Bay. Fan Jo*e del\\nCabo, Ma7atlan. Altata. La Pax, Santa Rosa-\\nlia and Guaymas (Mex.)— 10 a. m., 7th each\\nmonth. • _.\\nI For further Information obtain | company\\'s\\nfolders. ¦ - \\' • • \\' \\'\\n¦ The company reserves the ricnt to changre\\nfteamers, sailing dates\" and hours of sailing\\nwithout ¦ previous notice.\\nTICKFT OFFICE-t New Montgomery\\nstreet rPnlace Hotel).\\nGOODALL. PERKINS * CO.. Gen. Agents.\\n10 Market St.. San • Francisco.\\nOCEAN T3AVE1.\\nipiVEST RATES.\\nSTEAMER TICKETS INCLUDE BERTH and MEALS.\\nSS. COLUMBIA\\n...Sails June 22, July 2, 12. 22, August 1\\nSS. GEO. \"W. ELDER.* :..\\n....Sails June, 17, \\'27. July 7. 17. 27. August 6\\nD.W.HITCHCOCK. Gen-Art.. 1 Montsom\"y.S.F.\\nPORTLAND, Or.,\\nAnd Short Rail Line from Portland to all\\n• points East. TWroufth tickets to all\\n• points, nil rnil t #«te>»ni»h!n ot! rail, at\\nO. -R. AN.\\' CO.\\nOnly Stea.m.a3a.li> Xiizx* to\\nCOMPAONIE GENER4LE TSANS1TL15TIQUS.\\nDIRECT LINE TO HAVRE-PARIS\\nSailing every Thursday, instead of <TOjjT5fr\\nSaturday, at 10 a. m.. from pier 42. - *\\' \\'\"\"J\"*\\nNorth River, foot of Morton street, *L*Aqut-\\ntaine, June 20; La Bretagne. June 27: La Cham-\\npagne, July 4; La Gascopne. July 11.\\nFirst class to Havre. Vvi and unward. Second\\nclass to Havre. $45 and upward. GENERAL\\nAGESCT FOR UNITED STATES and CAN-\\nADA 32 Broadway (Hudson buildlnt). N\\'ew\\nYork. J. \\'P. FTJGAZI & CO.. Pacific Coast\\nAgents. 5 Montgomery avenue. San Francisco.\\nTickets sold by all Railroad Ticket Agents.\\n•Twin Screw Express Steamers.\\nAt Druggists throuihout the world.\\nA SMALL WINEGLASSFUL IS\\nA LARGE DOSE OF\\nHealth, Strength and Vigor.\\nWorld Famous Marian! Tonic\\nDIREGTORY\\nOF RESPONSIBLE HOUSES.\\nCatalogues and Pp!g3 Lists MaibI\\non Application.\\nCOAL. COKE AN) PI3 IROX.\\nJC WII QftN /t f 0 90 ° Ba «en- Street.\\nV TT1LjUi< tt VU-. Telephone Main 1S64.\\nCOPPERSMITH.\\nr W CMITH Fhip Plumbir.fr. Steamboat and\\n» - W- JHI 1 kit Ship Work a ppecialty. 16 and\\nis \\'WaEhin^rton Et. Telephone Main 564L\\nFRESH AND S4.LT MEATS.\\nIIC RrtYF^ *n Shipping Butchers. 104\\nJA. • PUlCadlJ- Clay. Tel. Main 1S94\\nOILS.\\nLTTBRICATING OILS. LEONARD & ELLIS.\\n41$ Front tt.. S. F. Phone Main 1719.\\nwrtNTixa.\\nF f KlifiHF^ printer.\\nt- L\" 1ILUI1C3. £11 sansome Ft.. S. F.\\n=\\nOppression, Suffocation, Neuralgia, etc., cared toy\\nESPIC\\'S CIGARETTES.or POWDER\\nParis, J. ESPIC ; New Ycrlc. E. FOUCiERA & CO.\\nSOLD EV ALL DRUGGISTS . : . ; . \\'. .\\nni rr nnt/ll Ccrner Fourth and\\nCAFE BOKftL|^>i\\nvellses checked free.\\nOR. GROSSMAN\\'S SPECIFIC MIXTURE.\\nFor the cure of GONORRHEA. GLEETS.\\nSTRICTURES and analogous complaints of the\\nOrgans of Generation.\\nPrice $1 n. bottle. For eale by druggists.\\nWeak Men and Women\\nCJliOLLD USE DAM1ANA BITTEKS. THE\\n*^ Trent \\'Mexican remedy; elves health and\\netre&ftb to sexual organ*. Depot, ZZi Market.\\nTenth Floor.*\\' Room 1015, Claus Spreckela Bids.\\nTelephone Brown 931. . . .\\nResidence, 821\\'Califonna st.,\\' below PowelL >\\n... Ban Francisco.\" \",\\nN0TAEY PDBH0 AND ATT0RHEY-AT-LAW.\\nU/.T.HESS,\\nSTEAMERS WILL LEAVE WHARF. COR-\\nner First and Brannan streets, \\'at 1 p. m.,\\nfor YOKOHAMA and HONGKONG, calling at\\nKobe . (Hiogo). - Nagasaki : and Shanghai and\\nconnecting at Hongkong with steamers for\\nIndia, etc. No cargo received on board on\\nday of sailing:. . - ¦ ¦ .. , ¦ (\\nSS. HONGKONG MARU.Saturday. June 22. 1501\\nSS. NIPPON MARU... Wednesday. July 17. J9J1\\nSS.- AMERICA MARU.. Saturday. Aug. 10.1901\\n. Round .trip tickets at reduced rates. For\\nfreight and passage apply at company\\'s office,\\n421 Market street, corner. First. *-\\n.\\'^v.\\'/ /> w . H. AVERY, General Ajent. .\\nTOYO KISEN K4ISHA.\\nAMERICAN LINE.\\nSEW T05K. 80CTH4SPT0N. ioTDQS. FARTS.\\nStopping: at Cherbourg:, ¦westbound. . . •\\nFrom New York Every Wednesday, 10 a. m.\\nSt. Paul June 19 St. Louis. ...Julyl\"\\nSt Louis June 26 St. .Paul August 7\\nSt. Paul July 10 St.- Louis August 14\\nRED STAR LINE. : r ;\" :\\nNew York and Antwerp.\\nFrom New York Every Wednesday. 12 noon.\\nSouthwark June 19*ZeeIand .\\'...July 10\\n•VaderUmd .... .June 26Frie»Ian<t ...\\'....July 17\\nKensington .....July SPennland -... ...July 24\\n?Stop at Cherbourg, eastbound. \\'-\\'.\\'\\nINTERNATIONAL NAVIGATION CO..\\nCHAS. D. TAYLOR. ¦\\nGeneral Agent Pacific Coast. 20 Montgomery st.\\nBAY AND BIVEB STEAMEB3.\\nSliAMBOAFixCURSIONS.\\nSixty-Mile Trips cn the Elegant New Steamer.\\nG\\'HEHAL FRISB1E\\nFirst class In every appointment; accommo-\\ndates 430 pass<»neers and leaves Pan Franc!3ro\\nat 9:45 a. m.. 3:15 and R:30 p. m. daily* for Val-\\nlejo and Mare Island Navy Yard. Fare, round\\ntrip, tli Sundays. 7Gc: meals, aOc. Special rates\\nto societies, orders and larse parttoe of all\\nkinds. Dining-room seats 60 at table.\\nSTEAMER NIOSTICEILO\\nWill make a special excursion trip to Vallejo,\\nSUNDAY. June 16th. leaving San Francisco at\\n7 a.m.: Vallejo at 6 p. m. Fare, round trtp. $1.\\nLanding and office. Pier 2. one block south Mar-\\nket- street ferry. Phone Me in 15C8.\\n(•3:15 triK omitted Sundajs.)\\nI - HATCH BROS:, Pier 2.\\nFOB U. S. NAVY YARD AND VALLEJO.\\n.Steamers GEN. FRI3BIE or.MONTICELLO\\n. 9:45. a. m.. 2:15 and 8:30 p. m.. except Sun-\\nday. Sunday, 9:45 a. m.. 8:30 p. m. -Leaven\\nVallejo 7 a. m.. 12:30 noon. 6 p. m..~ except\\'\\nSunday. Sunday. 7 a. m.. 1 4:15 -p. m. Fare 33\\ncents. Telerhone Main 15CS. Landlnar and of-\\nfice, pier 2, Mssion-st. dock. HATCH BROfl.\\n| Tp^morrow \"WPi^ \\'FMPtfSll^ES IHH ®^*®® Photos %\\n|C The 29 Sth Ccnceit by the \\' tar.oas i B^; - - Jt*^ -r*. Uati. June 25^, choice of any /»\\nJj Em oiumOrch.ttra, directed by Mr. g* ggQ fagggl WLBBBg Bg| W.2% S% 1% \\' *^ shle $5.00 Phoros f.r «35O p-r »J\\nJohn Marquardt. . CAUFORNIA\\'S LARGEST«AMER!CA # 3 GRANDEST STORE dozen. j|\\nI SpBGiai Sale Special Sale Goke Dandruff $\\n*r New Dimities. Mian\\'s Underwear. Gure for 59®, §\\ng[ Our first } reat cut-price tale thii s- aaon of styi- Men\\'s fancy Hght-we\\'ght first-qaalitv cotton Tiis h the rsgJar Si.oo s\\'z= of the popular \"J[\\njf , Ish new Dimitifs — medium, dark an! light \\'Unc\\'erwear lor Summer- : a nici blue with Colfe DmaruflF Cure. Is encim-us .a\\'e Jl\\ntf co\\'orings— abcu: 3000 yards; values ranging lancy ttripej; r;gu\\'af\\'.y 50c per garment j 20 has proven the fact that ths aricle has mrlt; &\\n» irom 15c to 20c; on sale in main dcz;n suits on tp:c:a! ta\"e Fr\\'day 500 bjttles, only to-day, at lit- £££&&* «\\nJ-. a?s:e Friday only; pet yard m&HLcr • only; per garment wSvSfSS tie mo e than hdf price ...... wU?*&Z*r\\nI 2-dfay GloihSng Sale Trimmed Mat Safe |\\n% Friday and Saturday Only. Friday and Saturday Only. %\\ng Men\\'s $10.00 and $!2.5o\\' al!-wor! Suits $7-85— Back and b\\'ue VVhat we\\'hav^ nnt m?»rWf>rl -2\\n«f chevkts, and fancy gray cr brown mixtur.s. Scm, cf the vests in the W \" a \\' XV e naV ~ nOt \"larKea s^^wkftfc 5\\ng blue Cheviots are reversible fancv silk, in neat dot effect on onssiie— the UOWIl We U2LVe made lip (£0^Z^M&/ i«\\nJ5=> other side san.e c!o h as coit. Treie ate our regu\\'-ar well nude and well ; n OMr n.wr, wrrwYr rr\\\\r\\\\m \\'Cf^^^&fg^^ -tf\\n«f /r^^ trimmed J 10.00 and 512.50 Sui;s marked \"\\' UU1 UW \" WU[K TOOm, &\\n«? <r«3 down for two days* jeu-^-jfjgj^ ana special prices have |,, I j\\nS ¦ ¦\"7?B> :y ..........:^£mCfS . teemnarjcedoiiall. The \\\\Z>. 5\\n* L Men s Pants — ths 5.5.03 km^ — or 1 . . , .. \\' , , ». A^?si/ \"2\\n*f tJ *™ • $2 68 styles are the best only, M^l. -}\\nS xffi5V Men\\'s pa:.t$-thc $2.5© kind— !br a the materials the test Wt<&p}&3h - *\\nI /rMtf>\\\\ \\' a Bo y s\\'^50Lo r gPanti ; su.^i f :95- possible-th. making, &fc^p %\\nfcS IiMm (\\\\ ai: -^° o1 chcvicts and ci\\'simer.s; in bke , our making and that is w^^m <*\\nM f I bpf\\'ffl I and in, handsome fancy mixtures — su:s for ,,^,««,,ol«/4 Tl + • n »- SP J\"\\n•f / llJ?# \"\\'¦\\'¦\\' I boy S l2tot9years;fashionabycut,welln:»^ UneqUaiea. , 1 lie trim- \\\\-r ,J X\\n* iTWm\\' A\\'> c n - w *- lrim Tc $7 ?° G/l Q l» •\\'• mings are plentiful and f^> %\\nIf V Littvf \\\\t Sui:s.F.idayandSaturday«J^ri7fiyv r j i. .l . . . »\\nI \\\\Ji (/ B^s-piecevests^ms-size, [ lne > and. altogether this will be the 5\\n» / PiY sfn/ ¦\" for agcJ Io to l6 years; doubI= !\" a3tcd best Millinery Bargain feast of the jt\\n£ I \\\\\\\\ \\\\=s / ¦•\\' vests; maV riJ itrict\\'y all-wool Cheviots and S°?l™On J*\\nA \\\\ ixUn Cassimeres; in blue and fancy effects in w * &\\nf \\\\ VJ29 1 -^s^j^^^^fo t6mO ° Trimmed Hats— cut to.... sar.4ffS\\nf ¦ l \\' fP:cial P ticc -------- 9p*Fa a § i €$ $8 oo Trimmed Hats — cut to 0^?.45 5\\n| Special Sale $20, $22.so 9 $25 Eton Manufacturer\\'s *\\ng Ladies\\' Handk\\'i\\'s. Dresses $14*50. Sample Line of Belts |\\naoodozin Ladies\\' 15c sheer lawn Handker.h\\'e r s, Th5s hlg he^ O ne cf the Off SOeCiSl Saff*. *\\n* with insertion and edging of Valen-Q-^ lest taes we have ever had. An \\'; *T *»^«#«?. g\\nJ cienncs Lace— on Friday only, each £P2# More and even bett.r valu-s A \" a , 8 / rt f cnt ° f e . ver y POP\"\\'\" make and S\\n¦«f iSodoz-nLaies\\' 25c sheer \\'awn Swiss S:a\\'.- W-W tave b«n added to the lot 3 , I r\\'\"^^\\'™ 11 ! 4 ° C <*-S=> «=1>» 3»\\n£ loped Embroidered Handkerchiefs, * J» ~ \\\\ 1& and row jou get not only the SS \"\"\"^ , ° f them sn ? aU Jlze3 - To ef \" S\\n% neat patterns- Friday onlv, each. I **& jM. choicest and most . swagger \\'fVrt clcaran j c< = we ha «- them X\\n% • - • 2> mffi\\\\ U.Ie % but the lowe^ price for lots and have marked them. for J\\n£ Sne»fB29iSs*tf» \\' T\\\\ f / ¦ loch aualities ever shown on -^T only at from one-quarter to one-half\\n1 . iSsstivL ¦ Mil m l^i wcil&c^ac. **\\nh .700 sets of fine quality go\\'d-p\\'ated, hard-enam- \\\\JA I \\\\ Eton Dressts— some with Ia:e y \"mnmrj —w-***mm x\\n% eed and p\\'ain VVa\\'s: Sets, either with 4- LI \\\\ cob\\'an like picture— choicest q - - a — - - «\\n$ button and ore pair ball links or with jfcXjr? \\\\\\\\ fancy vest effects; cloth dieises • <&P_&VBaS Oa/G x\\n£ three pins, one co kr button and one rair \\\\\\\\ \"* Pa.\". Un > brown » LSSflBS* GollSrSm *\\n*. ball.lin\\'cs, choice— to-day on\\' v, <Q *%^ X \\\\\\\\\\\\\\\\ S reen » nav y and d _ . mmmm -mm x\\n* n pcr c Ct ; M&G r^^TX b\\'ack; in broadcloth, A. well-known manuftctursr of Troy, New *\\nJ\".. \\' • \\' / J \\\\ \\\\\\\\ \"\" in Venetian, in home- «°™, has placed with us abaut 230 dczrn of 5\\ntf - - » «• a ¦ • // 1 M\\\\ spun, in che/ict, and \">\" sta;on\\'s jf\\ntf A &peCial Sale /J \\\\\\\\\\\\ a\" the mat^-als are «tjk» of , f^y /^\\\\ X\\nI in Glassware Dep\\'t. KM I \\\\J^ / f: jwoo \\'- ; r 1^ ££c£i 5\\nt£ . . ir~ v jt b*st makings and \" n en«-o lars, tZL \\' X \\'\\n2C Half-galbn- Water ~T^ highest taHoring; al a11 siz « *™™ f^F\\'ikl X\\nK \\\\?- A« P tchcr — C:ear g bss > sizes; sa\\'e .\\'asts on\\'y to-day and to-morrow; * - to 1 5 f <£^ J 5\\nSi V- V; S /A sha P e as m iJu trat.on, Ieg u ariy $20, $22.50, |a 5; . special price inch- the y^^_J :^ s^ K <^^£ 1^ s^ •»\\na? r ;C // WOIth85CiFn \" i flO« &US3 Bff% r -*f ular 4-p\\'v x\\n\\\\K J-- -^VV/ day tnly %p E & £\\'avBwJ al\\'-lnen 12 %z qoa!ity- special Friday B-^ X\\n£ (J \\\\ Ilir.ch Cake Platz— \"**\"*\" - onl y • • • - - ¦ • \\'..... \".each «P C •«\\n*f I \"^. \\' \\'~-=^\\\\ Innitation cut glass, thin -«. m ¦ a -^ a \\' \\' •\"•\\nJf \\' \\\\% \\' qHt andasclearascrysta\\'.reg- £? pQGi3t 02/8 SpBGBSl SalG ?\\nt- \\\\Jg/ \"t£^\"*: 17g Children\\'s Jackets Spschtel Shams. §\\nJC ; _ : ! . . and WaSh SuitSa We have bought at about ka\\'f their real value\\nJ Special -Safe Children\\'s ar-wool Cov. , \"gjjB shams an^s\" arl.^ The^aV^re n^rV Si 5\\n£ &%~~&A^^ *%£%~. ert Box Jackes, silk line J, SgS 20x54 inches in size, and the shams full X\\n$ tinSflfiWk&i* Z£2&G th s sea - cn s eoodSi ilZiS i(~$ size \\' in al1 th = fin « : Jot °f this da-s of »2\\n» a*em*wmm*m Mam^r^r for ages 6 t0 I2; w:re \\'ytsC- goods that we hare yet offered; not a piecs %\\ng Best Creamery Butter— the same .ex- ? 6 -5° cach » cutfcr.to-\\' /<^\\\\VP5\\\\ worthless than 50c, somi 7 5<=-aloflrerel \\'x\\n$ crllent qualities that have mide our fe$| $4.9S f J^i\\\\ WssM;} **\\' \"^ * \". 2SC *\\n\\' butter sales famous — the regular G\\'r.\\'s Perca\\'e one-pi«cc i^ii/k) * 5\\n»C ..size squares, Friday only. «**\"_ Dreis— blcu:e front; ruffli \\\\ A/V €•«>«•«•;««# O_f.~ X\\nH \\' ZgSQ round yoke; across back; /M^ \\\\ Sale X\\nJa \\'¦¦\\' \\' * \\' \\' ** yoke rnfHsd: neck and // >^ \\\\ CE#B*a D«<n#7fMn<« \"9 O n 41\\nit ; Mff « M C««^-»#« cuffs braid trimxed; u^s// | l A 5UG RlCtUrCS 28Q. *\\n$ BmiqUUr apGUiaBS. f m ages 6 t0 I+> • V^-^L-^C) These are framed p-a?ino-tyce picturts, ebony \\'x\\nK Jesse Moore AA Wh\\'skey— the g:nu:n; f for spicial to-day ... 75 C moldings, with heavy 2-inch dark gray mat X\\nj£ which , we regularly ask 95c P-\\' r — *» ChHdrcn\\'s fin i Imported \\\\~U ta tone the picture; there are 24 se\\'ect sub- X\\nX \\' botte— spicial to-day on\\'y. :..\\'... 7oC Fiquj Sailor Suits— style W/ je:ts, among which are such popu ar ones as •[\\nPort or Sherry — good • sound wine, q.-a!ity aj per cut; embroideiy in- Jj^ \"The Djctor,\" \"St. Cecelia,** •\\'Ead of X\\nJ[ guarantied, regularly 75c a galon _ B ser.ion on colar; one of V D^y.\" \"Countess Pctacka\" and \"Danes of X\\nfg — to day v &&G this tea-ton\\'s b;st ttylts; si^es for ag-s 4 to 14 the Nymph.\" There are a\\'sa religious pic- 9,\\nSt L\\'fc of the Orange — * valuable m:dicinal year.; rn special sa\\'e to-day tor ._ tures, fancy hsad3, landscape and animal x\\nj *»° toric, regular y 1. 00 per bott\\'e — «p*» any size $2.25 subjects, full size 9x11 inches. g^S%0% &\\nto-day e%S>C Linen Suits fame price, and cheaper. Special to-day only, each nOv •\\'\\nTHE EMPORIUM.\\nTHE EMPORIUM.\\n- THE EMPORIUM.\\ni\\'Hiin i\\nb - u _ This Great Train H\\n| . runs but twice 1\\nI THU BSD£Y \"~ ° I\\nH \\' jij£ Leaving at 9 am, |\\n§8 / it arrives in ||\\n1 rnirnnyBi Chlcagoat215 I\\nipFIIIUt^T\\'l\\nI IIHITtn \\' — 1\\nI LSSSsIILU its hlgH standard H\\nH of service is h\\nI OH fully painlaincd. |\\nhim Ft |\\nDR.MEYEBS&\\'CO. jHH^fe\\nSpecialists. Dls- Wsjlg it\\'\\nease and \"Weakness Wgffi 1£\\nof men. Estab- w7?B5 /tSSk^Sm\\nlished 18SL-- Consul- UTe. I-Rfjt.^j\\ntation and private Ypfr zJla 1\\nbook free. .at ofilca Vv3!ffi^\"\"iA\\ncr by mail. Cure* VWj^^tf\"^^\\nguaranteed. 731 jv»s»aa!r^p\\nMarket street (ele- j&C*\" l *<Z**&L\\'vr \\\\\\nvator entrance;. J|M\\nSan Francisco.',\n",
       " 'page': '',\n",
       " 'place': ['California--San Francisco--San Francisco'],\n",
       " 'place_of_publication': 'San Francisco [Calif.]',\n",
       " 'publisher': 'Charles M. Shortridge',\n",
       " 'section_label': '',\n",
       " 'sequence': 5,\n",
       " 'start_year': 1895,\n",
       " 'state': ['California'],\n",
       " 'subject': ['California--San Francisco Bay Area.--fast--(OCoLC)fst01242397',\n",
       "  'California--San Francisco.--fast--(OCoLC)fst01204481',\n",
       "  'San Francisco (Calif.)--Newspapers.',\n",
       "  'San Francisco Bay Area (Calif.)--Newspapers.'],\n",
       " 'title': 'The San Francisco call.',\n",
       " 'title_normal': 'san francisco call.',\n",
       " 'type': 'page',\n",
       " 'url': 'http://chroniclingamerica.loc.gov/lccn/sn85066387/1901-06-14/ed-1/seq-5.json'}"
      ]
     },
     "execution_count": 6,
     "metadata": {},
     "output_type": "execute_result"
    }
   ],
   "source": [
    "total['items'][0]  # This is what on of the items returned looks like. It is a dictionary of info."
   ]
  },
  {
   "cell_type": "markdown",
   "metadata": {},
   "source": [
    "I wanted to get a sense of how each calendar year was represented on each page of results from my empty search of the database. This count only looks at one page from the results. Each page has twenty results per page."
   ]
  },
  {
   "cell_type": "code",
   "execution_count": 7,
   "metadata": {},
   "outputs": [
    {
     "name": "stdout",
     "output_type": "stream",
     "text": [
      "Counter({'1911': 6, '1920': 5, '1917': 3, '1901': 2, '1916': 2, '1908': 2})\n"
     ]
    }
   ],
   "source": [
    "from collections import Counter\n",
    "\n",
    "c = Counter()\n",
    "for page in total['items']:\n",
    "    c[page['date'][:4]] += 1\n",
    "    \n",
    "print(c)"
   ]
  },
  {
   "cell_type": "markdown",
   "metadata": {},
   "source": [
    "I wanted to know how many total pages of 20 items were in my query range (1900-1922)"
   ]
  },
  {
   "cell_type": "code",
   "execution_count": 2,
   "metadata": {},
   "outputs": [
    {
     "name": "stdout",
     "output_type": "stream",
     "text": [
      "388884.7\n"
     ]
    }
   ],
   "source": [
    "how_many_pages = 7777694/20\n",
    "print(how_many_pages)"
   ]
  },
  {
   "cell_type": "markdown",
   "metadata": {},
   "source": [
    "Here I looked at the first 800 (40 * 20) entries from the API using no search parameters to see how each year was represented.\n",
    "I was disappointed by the variance in the representation of each year in my set.\n",
    "\n",
    "Warning: This loop takes a while."
   ]
  },
  {
   "cell_type": "code",
   "execution_count": 10,
   "metadata": {},
   "outputs": [
    {
     "data": {
      "text/plain": [
       "[('1911', 252),\n",
       " ('1920', 141),\n",
       " ('1916', 100),\n",
       " ('1901', 88),\n",
       " ('1908', 86),\n",
       " ('1917', 76),\n",
       " ('1912', 29),\n",
       " ('1918', 27),\n",
       " ('1906', 1)]"
      ]
     },
     "execution_count": 10,
     "metadata": {},
     "output_type": "execute_result"
    }
   ],
   "source": [
    "page_count = Counter()  # This will look at pages that come back from an empty search\n",
    "\n",
    "for page in range(0,40):\n",
    "    total_pages = requests.get('https://chroniclingamerica.loc.gov/search/pages/results/?state=&date1=1900&date2=1922&proxtext=&x=16&y=16&dateFilterType=yearRange&rows=20&searchType=basic&format=json&rows=20&page=' + str(page)).json()\n",
    "    for item in total_pages['items']:\n",
    "        page_count[item['date'][0:4]] += 1\n",
    "        \n",
    "\n",
    "page_count.most_common()"
   ]
  },
  {
   "cell_type": "markdown",
   "metadata": {},
   "source": [
    "I decided to import the random library and create a more random sample rather than just rely on whatever the API's search offered me up."
   ]
  },
  {
   "cell_type": "code",
   "execution_count": 3,
   "metadata": {},
   "outputs": [],
   "source": [
    "import random\n",
    "\n",
    "how_many_pages=int(how_many_pages)"
   ]
  },
  {
   "cell_type": "markdown",
   "metadata": {},
   "source": [
    "Here I used the random library to find 50 random pages in the range offered by CA. I was happier with the distribution."
   ]
  },
  {
   "cell_type": "code",
   "execution_count": 4,
   "metadata": {},
   "outputs": [],
   "source": [
    "how_many_pages=int(how_many_pages)\n",
    "page_sample = random.sample(range(0,how_many_pages), 50)\n",
    "\n",
    "# Using random, I get a random sample of fifty number\n",
    "# between 0 and the number of pages\n",
    "# returned by my empty search"
   ]
  },
  {
   "cell_type": "markdown",
   "metadata": {},
   "source": [
    "Below I looped through my random page sample and tacked each random integer onto the end of my empty search query to the API. This game me fifty random pages from the overall set. For each item on each page, I stripped the year attached to that item in the database and kept track of the results in a counter.\n",
    "\n",
    "Warning: This proccess takes a while."
   ]
  },
  {
   "cell_type": "code",
   "execution_count": 13,
   "metadata": {},
   "outputs": [
    {
     "data": {
      "text/plain": [
       "[('1910', 64),\n",
       " ('1916', 62),\n",
       " ('1909', 57),\n",
       " ('1913', 53),\n",
       " ('1917', 52),\n",
       " ('1911', 50),\n",
       " ('1915', 49),\n",
       " ('1908', 49),\n",
       " ('1919', 45),\n",
       " ('1922', 44),\n",
       " ('1921', 44),\n",
       " ('1905', 43),\n",
       " ('1904', 42),\n",
       " ('1906', 42),\n",
       " ('1918', 40),\n",
       " ('1920', 38),\n",
       " ('1903', 37),\n",
       " ('1902', 37),\n",
       " ('1912', 36),\n",
       " ('1900', 36),\n",
       " ('1907', 30),\n",
       " ('1914', 30),\n",
       " ('1901', 20)]"
      ]
     },
     "execution_count": 13,
     "metadata": {},
     "output_type": "execute_result"
    }
   ],
   "source": [
    "page_count = Counter()\n",
    "\n",
    "for page in page_sample:\n",
    "    total_pages = requests.get('https://chroniclingamerica.loc.gov/search/pages/results/?state=&date1=1900&date2=1922&proxtext=&x=16&y=16&dateFilterType=yearRange&rows=20&searchType=basic&format=json&rows=20&page=' + str(page)).json()\n",
    "    for item in total_pages['items']:\n",
    "        page_count[item['date'][0:4]] += 1\n",
    "        \n",
    "\n",
    "page_count.most_common()"
   ]
  },
  {
   "cell_type": "code",
   "execution_count": 14,
   "metadata": {},
   "outputs": [],
   "source": [
    "page_count_list = list(page_count.items())"
   ]
  },
  {
   "cell_type": "code",
   "execution_count": 15,
   "metadata": {},
   "outputs": [
    {
     "data": {
      "text/plain": [
       "[('1919', 45),\n",
       " ('1909', 57),\n",
       " ('1903', 37),\n",
       " ('1912', 36),\n",
       " ('1911', 50),\n",
       " ('1907', 30),\n",
       " ('1918', 40),\n",
       " ('1917', 52),\n",
       " ('1904', 42),\n",
       " ('1922', 44),\n",
       " ('1915', 49),\n",
       " ('1914', 30),\n",
       " ('1921', 44),\n",
       " ('1910', 64),\n",
       " ('1916', 62),\n",
       " ('1920', 38),\n",
       " ('1913', 53),\n",
       " ('1906', 42),\n",
       " ('1900', 36),\n",
       " ('1902', 37),\n",
       " ('1905', 43),\n",
       " ('1901', 20),\n",
       " ('1908', 49)]"
      ]
     },
     "execution_count": 15,
     "metadata": {},
     "output_type": "execute_result"
    }
   ],
   "source": [
    "page_count_list  # I turn my Counter object into a list"
   ]
  },
  {
   "cell_type": "markdown",
   "metadata": {},
   "source": [
    "Everything I did above for the empty search, I now do on the set returned from my \"America First\" query. I divided the number of items by 20 (which is the API's default items per page )"
   ]
  },
  {
   "cell_type": "code",
   "execution_count": 16,
   "metadata": {},
   "outputs": [
    {
     "data": {
      "text/plain": [
       "79734"
      ]
     },
     "execution_count": 16,
     "metadata": {},
     "output_type": "execute_result"
    }
   ],
   "source": [
    "af_search[\"totalItems\"]  # Here are the total items in the set"
   ]
  },
  {
   "cell_type": "code",
   "execution_count": 17,
   "metadata": {},
   "outputs": [
    {
     "name": "stdout",
     "output_type": "stream",
     "text": [
      "3976.05\n",
      "3976\n"
     ]
    }
   ],
   "source": [
    "how_many_pages_af=79521/20\n",
    "print(how_many_pages_af)\n",
    "how_many_pages_af = int(how_many_pages_af)\n",
    "print(how_many_pages_af)"
   ]
  },
  {
   "cell_type": "code",
   "execution_count": 18,
   "metadata": {},
   "outputs": [
    {
     "name": "stdout",
     "output_type": "stream",
     "text": [
      "[1448, 3762, 387, 494, 2707, 1749, 3720, 786, 2825, 1621, 3715, 2915, 1709, 2864, 2252, 2787, 561, 43, 1100, 1254, 1237, 1474, 2158, 3083, 1466, 866, 2974, 212, 1770, 211, 3602, 1689, 2924, 891, 3763, 3616, 1038, 3612, 1953, 3177, 3497, 3701, 829, 406, 338, 337, 1756, 1050, 2620, 2179]\n"
     ]
    }
   ],
   "source": [
    "random_num_af = random.sample(range(0,how_many_pages_af), 50) # I find 50 random pages in my \"America First\" search\n",
    "print(random_num_af)"
   ]
  },
  {
   "cell_type": "markdown",
   "metadata": {},
   "source": [
    "Here I'm using the random 50 numbers to pull a sample of 1000 pages from my \"America First\" search and printing out the years with the most instances of \"America first.\"\n",
    "\n",
    "Warning: This takes a while."
   ]
  },
  {
   "cell_type": "code",
   "execution_count": 19,
   "metadata": {},
   "outputs": [
    {
     "data": {
      "text/plain": [
       "[('1917', 84),\n",
       " ('1906', 82),\n",
       " ('1916', 78),\n",
       " ('1918', 61),\n",
       " ('1912', 53),\n",
       " ('1920', 52),\n",
       " ('1922', 51),\n",
       " ('1915', 46),\n",
       " ('1911', 45),\n",
       " ('1921', 42),\n",
       " ('1919', 42),\n",
       " ('1907', 40),\n",
       " ('1905', 39),\n",
       " ('1901', 36),\n",
       " ('1913', 34),\n",
       " ('1903', 31),\n",
       " ('1914', 31),\n",
       " ('1909', 30),\n",
       " ('1908', 30),\n",
       " ('1910', 30),\n",
       " ('1900', 23),\n",
       " ('1904', 20),\n",
       " ('1902', 20)]"
      ]
     },
     "execution_count": 19,
     "metadata": {},
     "output_type": "execute_result"
    }
   ],
   "source": [
    "af_count = Counter()\n",
    "\n",
    "for page in random_num_af:\n",
    "    af_json = requests.get('https://chroniclingamerica.loc.gov/search/pages/results/?state=&date1=1900&date2=1922&proxtext=%22America+first%22&x=0&y=0&dateFilterType=yearRange&searchType=basic&format=json&rows=20&page=' + str(page)).json()\n",
    "    for item in af_json['items']:\n",
    "        af_count[item['date'][0:4]] += 1\n",
    "        \n",
    "\n",
    "af_count.most_common()"
   ]
  },
  {
   "cell_type": "code",
   "execution_count": 20,
   "metadata": {},
   "outputs": [
    {
     "data": {
      "text/plain": [
       "Counter({'1900': 23,\n",
       "         '1901': 36,\n",
       "         '1902': 20,\n",
       "         '1903': 31,\n",
       "         '1904': 20,\n",
       "         '1905': 39,\n",
       "         '1906': 82,\n",
       "         '1907': 40,\n",
       "         '1908': 30,\n",
       "         '1909': 30,\n",
       "         '1910': 30,\n",
       "         '1911': 45,\n",
       "         '1912': 53,\n",
       "         '1913': 34,\n",
       "         '1914': 31,\n",
       "         '1915': 46,\n",
       "         '1916': 78,\n",
       "         '1917': 84,\n",
       "         '1918': 61,\n",
       "         '1919': 42,\n",
       "         '1920': 52,\n",
       "         '1921': 42,\n",
       "         '1922': 51})"
      ]
     },
     "execution_count": 20,
     "metadata": {},
     "output_type": "execute_result"
    }
   ],
   "source": [
    "af_count # currently my list of \"American First\" mentions per year is actually in a Counter object"
   ]
  },
  {
   "cell_type": "markdown",
   "metadata": {},
   "source": [
    "I create a list of tuples out of my Counter object. Each tuple contains a year paired with the mentions of \"AF\" for that year"
   ]
  },
  {
   "cell_type": "code",
   "execution_count": 21,
   "metadata": {
    "scrolled": true
   },
   "outputs": [],
   "source": [
    "date_count = list(af_count.items())"
   ]
  },
  {
   "cell_type": "code",
   "execution_count": 22,
   "metadata": {},
   "outputs": [
    {
     "data": {
      "text/plain": [
       "('1913', 34)"
      ]
     },
     "execution_count": 22,
     "metadata": {},
     "output_type": "execute_result"
    }
   ],
   "source": [
    "date_count[10]"
   ]
  },
  {
   "cell_type": "code",
   "execution_count": 23,
   "metadata": {},
   "outputs": [
    {
     "data": {
      "text/plain": [
       "[('1912', 53),\n",
       " ('1904', 20),\n",
       " ('1909', 30),\n",
       " ('1911', 45),\n",
       " ('1901', 36),\n",
       " ('1903', 31),\n",
       " ('1906', 82),\n",
       " ('1908', 30),\n",
       " ('1917', 84),\n",
       " ('1915', 46),\n",
       " ('1913', 34),\n",
       " ('1905', 39),\n",
       " ('1910', 30),\n",
       " ('1916', 78),\n",
       " ('1907', 40),\n",
       " ('1920', 52),\n",
       " ('1921', 42),\n",
       " ('1902', 20),\n",
       " ('1914', 31),\n",
       " ('1922', 51),\n",
       " ('1919', 42),\n",
       " ('1918', 61),\n",
       " ('1900', 23)]"
      ]
     },
     "execution_count": 23,
     "metadata": {},
     "output_type": "execute_result"
    }
   ],
   "source": [
    "date_count"
   ]
  },
  {
   "cell_type": "markdown",
   "metadata": {},
   "source": [
    "So I have two sets. One (page_count) contains the instances of each calendar year when I run an empty search through the API. The second (date_count) contains instances of each calendar year when I run a search through the API using \"America First\" as a query. \n",
    "\n",
    "Here I've combined the two sets into list of tuples."
   ]
  },
  {
   "cell_type": "code",
   "execution_count": 24,
   "metadata": {},
   "outputs": [
    {
     "name": "stdout",
     "output_type": "stream",
     "text": [
      "('1912', 53, 36)\n",
      "('1904', 20, 42)\n",
      "('1909', 30, 57)\n",
      "('1911', 45, 50)\n",
      "('1901', 36, 20)\n",
      "('1903', 31, 37)\n",
      "('1906', 82, 42)\n",
      "('1908', 30, 49)\n",
      "('1917', 84, 52)\n",
      "('1915', 46, 49)\n",
      "('1913', 34, 53)\n",
      "('1905', 39, 43)\n",
      "('1910', 30, 64)\n",
      "('1916', 78, 62)\n",
      "('1907', 40, 30)\n",
      "('1920', 52, 38)\n",
      "('1921', 42, 44)\n",
      "('1902', 20, 37)\n",
      "('1914', 31, 30)\n",
      "('1922', 51, 44)\n",
      "('1919', 42, 45)\n",
      "('1918', 61, 40)\n",
      "('1900', 23, 36)\n"
     ]
    }
   ],
   "source": [
    "complete_list = []\n",
    "for x in date_count:\n",
    "    for y in page_count_list:\n",
    "        if x[0] == y[0]:\n",
    "            cast = list(x)\n",
    "            cast.insert(2, y[1])\n",
    "            x = tuple(cast)\n",
    "            complete_list.append(x)\n",
    "            print(x)\n",
    "            "
   ]
  },
  {
   "cell_type": "code",
   "execution_count": 25,
   "metadata": {},
   "outputs": [
    {
     "data": {
      "text/plain": [
       "[('1912', 53, 36),\n",
       " ('1904', 20, 42),\n",
       " ('1909', 30, 57),\n",
       " ('1911', 45, 50),\n",
       " ('1901', 36, 20),\n",
       " ('1903', 31, 37),\n",
       " ('1906', 82, 42),\n",
       " ('1908', 30, 49),\n",
       " ('1917', 84, 52),\n",
       " ('1915', 46, 49),\n",
       " ('1913', 34, 53),\n",
       " ('1905', 39, 43),\n",
       " ('1910', 30, 64),\n",
       " ('1916', 78, 62),\n",
       " ('1907', 40, 30),\n",
       " ('1920', 52, 38),\n",
       " ('1921', 42, 44),\n",
       " ('1902', 20, 37),\n",
       " ('1914', 31, 30),\n",
       " ('1922', 51, 44),\n",
       " ('1919', 42, 45),\n",
       " ('1918', 61, 40),\n",
       " ('1900', 23, 36)]"
      ]
     },
     "execution_count": 25,
     "metadata": {},
     "output_type": "execute_result"
    }
   ],
   "source": [
    "complete_list"
   ]
  },
  {
   "cell_type": "code",
   "execution_count": 26,
   "metadata": {},
   "outputs": [],
   "source": [
    "complete_list.sort()  # The list is easier to comprehed if sorted by year"
   ]
  },
  {
   "cell_type": "code",
   "execution_count": 27,
   "metadata": {},
   "outputs": [
    {
     "data": {
      "text/plain": [
       "[('1900', 23, 36),\n",
       " ('1901', 36, 20),\n",
       " ('1902', 20, 37),\n",
       " ('1903', 31, 37),\n",
       " ('1904', 20, 42),\n",
       " ('1905', 39, 43),\n",
       " ('1906', 82, 42),\n",
       " ('1907', 40, 30),\n",
       " ('1908', 30, 49),\n",
       " ('1909', 30, 57),\n",
       " ('1910', 30, 64),\n",
       " ('1911', 45, 50),\n",
       " ('1912', 53, 36),\n",
       " ('1913', 34, 53),\n",
       " ('1914', 31, 30),\n",
       " ('1915', 46, 49),\n",
       " ('1916', 78, 62),\n",
       " ('1917', 84, 52),\n",
       " ('1918', 61, 40),\n",
       " ('1919', 42, 45),\n",
       " ('1920', 52, 38),\n",
       " ('1921', 42, 44),\n",
       " ('1922', 51, 44)]"
      ]
     },
     "execution_count": 27,
     "metadata": {},
     "output_type": "execute_result"
    }
   ],
   "source": [
    "complete_list"
   ]
  },
  {
   "cell_type": "markdown",
   "metadata": {},
   "source": [
    "What I'm actually interested in is the ratio of yearly instances in my \"America First\" set to the yearly instances in my empty-search set. I could have simply used the instances from the \"America First\" search, but I have no idea if the \"Chronicling America\" database over represents some years over others. The ratio--the weighted appearance frequency--is my correction for that possible error."
   ]
  },
  {
   "cell_type": "code",
   "execution_count": 28,
   "metadata": {},
   "outputs": [
    {
     "name": "stdout",
     "output_type": "stream",
     "text": [
      "0.6388888888888888\n",
      "1.8\n",
      "0.5405405405405406\n",
      "0.8378378378378378\n",
      "0.47619047619047616\n",
      "0.9069767441860465\n",
      "1.9523809523809523\n",
      "1.3333333333333333\n",
      "0.6122448979591837\n",
      "0.5263157894736842\n",
      "0.46875\n",
      "0.9\n",
      "1.4722222222222223\n",
      "0.6415094339622641\n",
      "1.0333333333333334\n",
      "0.9387755102040817\n",
      "1.2580645161290323\n",
      "1.6153846153846154\n",
      "1.525\n",
      "0.9333333333333333\n",
      "1.368421052631579\n",
      "0.9545454545454546\n",
      "1.1590909090909092\n"
     ]
    }
   ],
   "source": [
    "list_of_ratios = []  # This list will hold all the weighted appearance frequencies\n",
    "for x in complete_list:\n",
    "    cast = list(x)\n",
    "    ratio = cast[1]/cast[2]\n",
    "    list_of_ratios.append(ratio)\n",
    "    print(ratio)"
   ]
  },
  {
   "cell_type": "markdown",
   "metadata": {},
   "source": [
    "Of course I need these frequencies in my tuple"
   ]
  },
  {
   "cell_type": "code",
   "execution_count": 29,
   "metadata": {},
   "outputs": [
    {
     "name": "stdout",
     "output_type": "stream",
     "text": [
      "('1900', 23, 36, 0.6388888888888888)\n",
      "('1901', 36, 20, 1.8)\n",
      "('1902', 20, 37, 0.5405405405405406)\n",
      "('1903', 31, 37, 0.8378378378378378)\n",
      "('1904', 20, 42, 0.47619047619047616)\n",
      "('1905', 39, 43, 0.9069767441860465)\n",
      "('1906', 82, 42, 1.9523809523809523)\n",
      "('1907', 40, 30, 1.3333333333333333)\n",
      "('1908', 30, 49, 0.6122448979591837)\n",
      "('1909', 30, 57, 0.5263157894736842)\n",
      "('1910', 30, 64, 0.46875)\n",
      "('1911', 45, 50, 0.9)\n",
      "('1912', 53, 36, 1.4722222222222223)\n",
      "('1913', 34, 53, 0.6415094339622641)\n",
      "('1914', 31, 30, 1.0333333333333334)\n",
      "('1915', 46, 49, 0.9387755102040817)\n",
      "('1916', 78, 62, 1.2580645161290323)\n",
      "('1917', 84, 52, 1.6153846153846154)\n",
      "('1918', 61, 40, 1.525)\n",
      "('1919', 42, 45, 0.9333333333333333)\n",
      "('1920', 52, 38, 1.368421052631579)\n",
      "('1921', 42, 44, 0.9545454545454546)\n",
      "('1922', 51, 44, 1.1590909090909092)\n"
     ]
    }
   ],
   "source": [
    "completer_list = []\n",
    "list_of_ratios = []\n",
    "for x in complete_list:\n",
    "    cast = list(x)\n",
    "    ratio = cast[1]/cast[2]\n",
    "    cast.insert(3, ratio)\n",
    "    x = tuple(cast)\n",
    "    completer_list.append(x)\n",
    "    print(x)\n",
    "    "
   ]
  },
  {
   "cell_type": "code",
   "execution_count": 30,
   "metadata": {},
   "outputs": [
    {
     "data": {
      "text/plain": [
       "[('1900', 23, 36, 0.6388888888888888),\n",
       " ('1901', 36, 20, 1.8),\n",
       " ('1902', 20, 37, 0.5405405405405406),\n",
       " ('1903', 31, 37, 0.8378378378378378),\n",
       " ('1904', 20, 42, 0.47619047619047616),\n",
       " ('1905', 39, 43, 0.9069767441860465),\n",
       " ('1906', 82, 42, 1.9523809523809523),\n",
       " ('1907', 40, 30, 1.3333333333333333),\n",
       " ('1908', 30, 49, 0.6122448979591837),\n",
       " ('1909', 30, 57, 0.5263157894736842),\n",
       " ('1910', 30, 64, 0.46875),\n",
       " ('1911', 45, 50, 0.9),\n",
       " ('1912', 53, 36, 1.4722222222222223),\n",
       " ('1913', 34, 53, 0.6415094339622641),\n",
       " ('1914', 31, 30, 1.0333333333333334),\n",
       " ('1915', 46, 49, 0.9387755102040817),\n",
       " ('1916', 78, 62, 1.2580645161290323),\n",
       " ('1917', 84, 52, 1.6153846153846154),\n",
       " ('1918', 61, 40, 1.525),\n",
       " ('1919', 42, 45, 0.9333333333333333),\n",
       " ('1920', 52, 38, 1.368421052631579),\n",
       " ('1921', 42, 44, 0.9545454545454546),\n",
       " ('1922', 51, 44, 1.1590909090909092)]"
      ]
     },
     "execution_count": 30,
     "metadata": {},
     "output_type": "execute_result"
    }
   ],
   "source": [
    "completer_list"
   ]
  },
  {
   "cell_type": "markdown",
   "metadata": {},
   "source": [
    "Now I start putting my info into a sqlite table"
   ]
  },
  {
   "cell_type": "code",
   "execution_count": 31,
   "metadata": {},
   "outputs": [],
   "source": [
    "import sqlite3"
   ]
  },
  {
   "cell_type": "code",
   "execution_count": 33,
   "metadata": {},
   "outputs": [],
   "source": [
    "conn = sqlite3.connect('af_dates.db')"
   ]
  },
  {
   "cell_type": "code",
   "execution_count": 34,
   "metadata": {},
   "outputs": [
    {
     "data": {
      "text/plain": [
       "<sqlite3.Cursor at 0x154e8aee9d0>"
      ]
     },
     "execution_count": 34,
     "metadata": {},
     "output_type": "execute_result"
    }
   ],
   "source": [
    "cur.execute('''CREATE TABLE IF NOT EXISTS af_dates (dates text, yr_instances_af integer, yr_instances_empty integer, weighted_frequency real)''')"
   ]
  },
  {
   "cell_type": "markdown",
   "metadata": {},
   "source": [
    "Here I insert my data into the created table."
   ]
  },
  {
   "cell_type": "code",
   "execution_count": 35,
   "metadata": {},
   "outputs": [],
   "source": [
    "for date in completer_list:\n",
    "    cur.execute('INSERT INTO af_dates VALUES (?,?,?,?)', (date))\n"
   ]
  },
  {
   "cell_type": "code",
   "execution_count": 36,
   "metadata": {},
   "outputs": [],
   "source": [
    "conn.commit()"
   ]
  },
  {
   "cell_type": "markdown",
   "metadata": {},
   "source": [
    "At this point I should have a db with dates, yearly instances in my \"America First\" search, yearly instances in my empty search, and the weighted appearance frequency included side by side."
   ]
  },
  {
   "cell_type": "code",
   "execution_count": 37,
   "metadata": {
    "scrolled": true
   },
   "outputs": [
    {
     "name": "stdout",
     "output_type": "stream",
     "text": [
      "Below each entry has four pieces of data:\n",
      "\t1. Year\n",
      "\t2. Mentions of \"America First\"\n",
      "\t3. Number of pages from that year in a random sample\n",
      "\t4. Ratio of instances to number of pages from that year\n",
      "('1900', 23, 36, 0.6388888888888888)\n",
      "('1901', 36, 20, 1.8)\n",
      "('1902', 20, 37, 0.5405405405405406)\n",
      "('1903', 31, 37, 0.8378378378378378)\n",
      "('1904', 20, 42, 0.47619047619047616)\n",
      "('1905', 39, 43, 0.9069767441860465)\n",
      "('1906', 82, 42, 1.9523809523809523)\n",
      "('1907', 40, 30, 1.3333333333333333)\n",
      "('1908', 30, 49, 0.6122448979591837)\n",
      "('1909', 30, 57, 0.5263157894736842)\n",
      "('1910', 30, 64, 0.46875)\n",
      "('1911', 45, 50, 0.9)\n",
      "('1912', 53, 36, 1.4722222222222223)\n",
      "('1913', 34, 53, 0.6415094339622641)\n",
      "('1914', 31, 30, 1.0333333333333334)\n",
      "('1915', 46, 49, 0.9387755102040817)\n",
      "('1916', 78, 62, 1.2580645161290323)\n",
      "('1917', 84, 52, 1.6153846153846154)\n",
      "('1918', 61, 40, 1.525)\n",
      "('1919', 42, 45, 0.9333333333333333)\n",
      "('1920', 52, 38, 1.368421052631579)\n",
      "('1921', 42, 44, 0.9545454545454546)\n",
      "('1922', 51, 44, 1.1590909090909092)\n"
     ]
    }
   ],
   "source": [
    "print(\"Below each entry has four pieces of data:\\n\\t1. Year\\n\\t2. Mentions of \\\"America First\\\"\\n\\t3. Number of pages from that year in a random sample\\n\\t4. Ratio of instances to number of pages from that year\")\n",
    "for row in cur.execute('SELECT * FROM af_dates ORDER BY date(dates)'):\n",
    "    print(row)"
   ]
  },
  {
   "cell_type": "markdown",
   "metadata": {},
   "source": [
    "Here I'm just showing that I can take my data out of the database and put into a list"
   ]
  },
  {
   "cell_type": "code",
   "execution_count": 38,
   "metadata": {},
   "outputs": [],
   "source": [
    "post_db_list = []\n",
    "for row in cur.execute('SELECT * FROM af_dates ORDER BY date(dates)'):\n",
    "    post_db_list.append(row)"
   ]
  },
  {
   "cell_type": "code",
   "execution_count": 39,
   "metadata": {},
   "outputs": [
    {
     "data": {
      "text/plain": [
       "[('1900', 23, 36, 0.6388888888888888),\n",
       " ('1901', 36, 20, 1.8),\n",
       " ('1902', 20, 37, 0.5405405405405406),\n",
       " ('1903', 31, 37, 0.8378378378378378),\n",
       " ('1904', 20, 42, 0.47619047619047616),\n",
       " ('1905', 39, 43, 0.9069767441860465),\n",
       " ('1906', 82, 42, 1.9523809523809523),\n",
       " ('1907', 40, 30, 1.3333333333333333),\n",
       " ('1908', 30, 49, 0.6122448979591837),\n",
       " ('1909', 30, 57, 0.5263157894736842),\n",
       " ('1910', 30, 64, 0.46875),\n",
       " ('1911', 45, 50, 0.9),\n",
       " ('1912', 53, 36, 1.4722222222222223),\n",
       " ('1913', 34, 53, 0.6415094339622641),\n",
       " ('1914', 31, 30, 1.0333333333333334),\n",
       " ('1915', 46, 49, 0.9387755102040817),\n",
       " ('1916', 78, 62, 1.2580645161290323),\n",
       " ('1917', 84, 52, 1.6153846153846154),\n",
       " ('1918', 61, 40, 1.525),\n",
       " ('1919', 42, 45, 0.9333333333333333),\n",
       " ('1920', 52, 38, 1.368421052631579),\n",
       " ('1921', 42, 44, 0.9545454545454546),\n",
       " ('1922', 51, 44, 1.1590909090909092)]"
      ]
     },
     "execution_count": 39,
     "metadata": {},
     "output_type": "execute_result"
    }
   ],
   "source": [
    "post_db_list"
   ]
  },
  {
   "cell_type": "code",
   "execution_count": 40,
   "metadata": {},
   "outputs": [],
   "source": [
    "complete_list_sorted = sorted(post_db_list, key=lambda date: date[0])"
   ]
  },
  {
   "cell_type": "code",
   "execution_count": 41,
   "metadata": {},
   "outputs": [
    {
     "data": {
      "text/plain": [
       "[('1900', 23, 36, 0.6388888888888888),\n",
       " ('1901', 36, 20, 1.8),\n",
       " ('1902', 20, 37, 0.5405405405405406),\n",
       " ('1903', 31, 37, 0.8378378378378378),\n",
       " ('1904', 20, 42, 0.47619047619047616),\n",
       " ('1905', 39, 43, 0.9069767441860465),\n",
       " ('1906', 82, 42, 1.9523809523809523),\n",
       " ('1907', 40, 30, 1.3333333333333333),\n",
       " ('1908', 30, 49, 0.6122448979591837),\n",
       " ('1909', 30, 57, 0.5263157894736842),\n",
       " ('1910', 30, 64, 0.46875),\n",
       " ('1911', 45, 50, 0.9),\n",
       " ('1912', 53, 36, 1.4722222222222223),\n",
       " ('1913', 34, 53, 0.6415094339622641),\n",
       " ('1914', 31, 30, 1.0333333333333334),\n",
       " ('1915', 46, 49, 0.9387755102040817),\n",
       " ('1916', 78, 62, 1.2580645161290323),\n",
       " ('1917', 84, 52, 1.6153846153846154),\n",
       " ('1918', 61, 40, 1.525),\n",
       " ('1919', 42, 45, 0.9333333333333333),\n",
       " ('1920', 52, 38, 1.368421052631579),\n",
       " ('1921', 42, 44, 0.9545454545454546),\n",
       " ('1922', 51, 44, 1.1590909090909092)]"
      ]
     },
     "execution_count": 41,
     "metadata": {},
     "output_type": "execute_result"
    }
   ],
   "source": [
    "complete_list_sorted"
   ]
  },
  {
   "cell_type": "code",
   "execution_count": 42,
   "metadata": {},
   "outputs": [],
   "source": [
    "dates = [row[0] for row in complete_list_sorted]"
   ]
  },
  {
   "cell_type": "code",
   "execution_count": 43,
   "metadata": {},
   "outputs": [],
   "source": [
    "af_instances = [row[1] for row in complete_list_sorted]"
   ]
  },
  {
   "cell_type": "code",
   "execution_count": 44,
   "metadata": {},
   "outputs": [],
   "source": [
    "empty_search_instances = [row[2] for row in complete_list_sorted]"
   ]
  },
  {
   "cell_type": "code",
   "execution_count": 45,
   "metadata": {},
   "outputs": [],
   "source": [
    "frequencies = [row[3] for row in complete_list_sorted]"
   ]
  },
  {
   "cell_type": "code",
   "execution_count": 46,
   "metadata": {},
   "outputs": [
    {
     "data": {
      "text/html": [
       "\n",
       "    <div class=\"bk-root\">\n",
       "        <a href=\"https://bokeh.pydata.org\" target=\"_blank\" class=\"bk-logo bk-logo-small bk-logo-notebook\"></a>\n",
       "        <span id=\"dc5f505d-3843-4eaf-a849-95b3f7a1c00d\">Loading BokehJS ...</span>\n",
       "    </div>"
      ]
     },
     "metadata": {},
     "output_type": "display_data"
    },
    {
     "data": {
      "application/javascript": [
       "\n",
       "(function(root) {\n",
       "  function now() {\n",
       "    return new Date();\n",
       "  }\n",
       "\n",
       "  var force = true;\n",
       "\n",
       "  if (typeof (root._bokeh_onload_callbacks) === \"undefined\" || force === true) {\n",
       "    root._bokeh_onload_callbacks = [];\n",
       "    root._bokeh_is_loading = undefined;\n",
       "  }\n",
       "\n",
       "  var JS_MIME_TYPE = 'application/javascript';\n",
       "  var HTML_MIME_TYPE = 'text/html';\n",
       "  var EXEC_MIME_TYPE = 'application/vnd.bokehjs_exec.v0+json';\n",
       "  var CLASS_NAME = 'output_bokeh rendered_html';\n",
       "\n",
       "  /**\n",
       "   * Render data to the DOM node\n",
       "   */\n",
       "  function render(props, node) {\n",
       "    var script = document.createElement(\"script\");\n",
       "    node.appendChild(script);\n",
       "  }\n",
       "\n",
       "  /**\n",
       "   * Handle when an output is cleared or removed\n",
       "   */\n",
       "  function handleClearOutput(event, handle) {\n",
       "    var cell = handle.cell;\n",
       "\n",
       "    var id = cell.output_area._bokeh_element_id;\n",
       "    var server_id = cell.output_area._bokeh_server_id;\n",
       "    // Clean up Bokeh references\n",
       "    if (id !== undefined) {\n",
       "      Bokeh.index[id].model.document.clear();\n",
       "      delete Bokeh.index[id];\n",
       "    }\n",
       "\n",
       "    if (server_id !== undefined) {\n",
       "      // Clean up Bokeh references\n",
       "      var cmd = \"from bokeh.io.state import curstate; print(curstate().uuid_to_server['\" + server_id + \"'].get_sessions()[0].document.roots[0]._id)\";\n",
       "      cell.notebook.kernel.execute(cmd, {\n",
       "        iopub: {\n",
       "          output: function(msg) {\n",
       "            var element_id = msg.content.text.trim();\n",
       "            Bokeh.index[element_id].model.document.clear();\n",
       "            delete Bokeh.index[element_id];\n",
       "          }\n",
       "        }\n",
       "      });\n",
       "      // Destroy server and session\n",
       "      var cmd = \"import bokeh.io.notebook as ion; ion.destroy_server('\" + server_id + \"')\";\n",
       "      cell.notebook.kernel.execute(cmd);\n",
       "    }\n",
       "  }\n",
       "\n",
       "  /**\n",
       "   * Handle when a new output is added\n",
       "   */\n",
       "  function handleAddOutput(event, handle) {\n",
       "    var output_area = handle.output_area;\n",
       "    var output = handle.output;\n",
       "\n",
       "    // limit handleAddOutput to display_data with EXEC_MIME_TYPE content only\n",
       "    if ((output.output_type != \"display_data\") || (!output.data.hasOwnProperty(EXEC_MIME_TYPE))) {\n",
       "      return\n",
       "    }\n",
       "\n",
       "    var toinsert = output_area.element.find(\".\" + CLASS_NAME.split(' ')[0]);\n",
       "\n",
       "    if (output.metadata[EXEC_MIME_TYPE][\"id\"] !== undefined) {\n",
       "      toinsert[0].firstChild.textContent = output.data[JS_MIME_TYPE];\n",
       "      // store reference to embed id on output_area\n",
       "      output_area._bokeh_element_id = output.metadata[EXEC_MIME_TYPE][\"id\"];\n",
       "    }\n",
       "    if (output.metadata[EXEC_MIME_TYPE][\"server_id\"] !== undefined) {\n",
       "      var bk_div = document.createElement(\"div\");\n",
       "      bk_div.innerHTML = output.data[HTML_MIME_TYPE];\n",
       "      var script_attrs = bk_div.children[0].attributes;\n",
       "      for (var i = 0; i < script_attrs.length; i++) {\n",
       "        toinsert[0].firstChild.setAttribute(script_attrs[i].name, script_attrs[i].value);\n",
       "      }\n",
       "      // store reference to server id on output_area\n",
       "      output_area._bokeh_server_id = output.metadata[EXEC_MIME_TYPE][\"server_id\"];\n",
       "    }\n",
       "  }\n",
       "\n",
       "  function register_renderer(events, OutputArea) {\n",
       "\n",
       "    function append_mime(data, metadata, element) {\n",
       "      // create a DOM node to render to\n",
       "      var toinsert = this.create_output_subarea(\n",
       "        metadata,\n",
       "        CLASS_NAME,\n",
       "        EXEC_MIME_TYPE\n",
       "      );\n",
       "      this.keyboard_manager.register_events(toinsert);\n",
       "      // Render to node\n",
       "      var props = {data: data, metadata: metadata[EXEC_MIME_TYPE]};\n",
       "      render(props, toinsert[0]);\n",
       "      element.append(toinsert);\n",
       "      return toinsert\n",
       "    }\n",
       "\n",
       "    /* Handle when an output is cleared or removed */\n",
       "    events.on('clear_output.CodeCell', handleClearOutput);\n",
       "    events.on('delete.Cell', handleClearOutput);\n",
       "\n",
       "    /* Handle when a new output is added */\n",
       "    events.on('output_added.OutputArea', handleAddOutput);\n",
       "\n",
       "    /**\n",
       "     * Register the mime type and append_mime function with output_area\n",
       "     */\n",
       "    OutputArea.prototype.register_mime_type(EXEC_MIME_TYPE, append_mime, {\n",
       "      /* Is output safe? */\n",
       "      safe: true,\n",
       "      /* Index of renderer in `output_area.display_order` */\n",
       "      index: 0\n",
       "    });\n",
       "  }\n",
       "\n",
       "  // register the mime type if in Jupyter Notebook environment and previously unregistered\n",
       "  if (root.Jupyter !== undefined) {\n",
       "    var events = require('base/js/events');\n",
       "    var OutputArea = require('notebook/js/outputarea').OutputArea;\n",
       "\n",
       "    if (OutputArea.prototype.mime_types().indexOf(EXEC_MIME_TYPE) == -1) {\n",
       "      register_renderer(events, OutputArea);\n",
       "    }\n",
       "  }\n",
       "\n",
       "  \n",
       "  if (typeof (root._bokeh_timeout) === \"undefined\" || force === true) {\n",
       "    root._bokeh_timeout = Date.now() + 5000;\n",
       "    root._bokeh_failed_load = false;\n",
       "  }\n",
       "\n",
       "  var NB_LOAD_WARNING = {'data': {'text/html':\n",
       "     \"<div style='background-color: #fdd'>\\n\"+\n",
       "     \"<p>\\n\"+\n",
       "     \"BokehJS does not appear to have successfully loaded. If loading BokehJS from CDN, this \\n\"+\n",
       "     \"may be due to a slow or bad network connection. Possible fixes:\\n\"+\n",
       "     \"</p>\\n\"+\n",
       "     \"<ul>\\n\"+\n",
       "     \"<li>re-rerun `output_notebook()` to attempt to load from CDN again, or</li>\\n\"+\n",
       "     \"<li>use INLINE resources instead, as so:</li>\\n\"+\n",
       "     \"</ul>\\n\"+\n",
       "     \"<code>\\n\"+\n",
       "     \"from bokeh.resources import INLINE\\n\"+\n",
       "     \"output_notebook(resources=INLINE)\\n\"+\n",
       "     \"</code>\\n\"+\n",
       "     \"</div>\"}};\n",
       "\n",
       "  function display_loaded() {\n",
       "    var el = document.getElementById(\"dc5f505d-3843-4eaf-a849-95b3f7a1c00d\");\n",
       "    if (el != null) {\n",
       "      el.textContent = \"BokehJS is loading...\";\n",
       "    }\n",
       "    if (root.Bokeh !== undefined) {\n",
       "      if (el != null) {\n",
       "        el.textContent = \"BokehJS \" + root.Bokeh.version + \" successfully loaded.\";\n",
       "      }\n",
       "    } else if (Date.now() < root._bokeh_timeout) {\n",
       "      setTimeout(display_loaded, 100)\n",
       "    }\n",
       "  }\n",
       "\n",
       "\n",
       "  function run_callbacks() {\n",
       "    try {\n",
       "      root._bokeh_onload_callbacks.forEach(function(callback) { callback() });\n",
       "    }\n",
       "    finally {\n",
       "      delete root._bokeh_onload_callbacks\n",
       "    }\n",
       "    console.info(\"Bokeh: all callbacks have finished\");\n",
       "  }\n",
       "\n",
       "  function load_libs(js_urls, callback) {\n",
       "    root._bokeh_onload_callbacks.push(callback);\n",
       "    if (root._bokeh_is_loading > 0) {\n",
       "      console.log(\"Bokeh: BokehJS is being loaded, scheduling callback at\", now());\n",
       "      return null;\n",
       "    }\n",
       "    if (js_urls == null || js_urls.length === 0) {\n",
       "      run_callbacks();\n",
       "      return null;\n",
       "    }\n",
       "    console.log(\"Bokeh: BokehJS not loaded, scheduling load and callback at\", now());\n",
       "    root._bokeh_is_loading = js_urls.length;\n",
       "    for (var i = 0; i < js_urls.length; i++) {\n",
       "      var url = js_urls[i];\n",
       "      var s = document.createElement('script');\n",
       "      s.src = url;\n",
       "      s.async = false;\n",
       "      s.onreadystatechange = s.onload = function() {\n",
       "        root._bokeh_is_loading--;\n",
       "        if (root._bokeh_is_loading === 0) {\n",
       "          console.log(\"Bokeh: all BokehJS libraries loaded\");\n",
       "          run_callbacks()\n",
       "        }\n",
       "      };\n",
       "      s.onerror = function() {\n",
       "        console.warn(\"failed to load library \" + url);\n",
       "      };\n",
       "      console.log(\"Bokeh: injecting script tag for BokehJS library: \", url);\n",
       "      document.getElementsByTagName(\"head\")[0].appendChild(s);\n",
       "    }\n",
       "  };var element = document.getElementById(\"dc5f505d-3843-4eaf-a849-95b3f7a1c00d\");\n",
       "  if (element == null) {\n",
       "    console.log(\"Bokeh: ERROR: autoload.js configured with elementid 'dc5f505d-3843-4eaf-a849-95b3f7a1c00d' but no matching script tag was found. \")\n",
       "    return false;\n",
       "  }\n",
       "\n",
       "  var js_urls = [\"https://cdn.pydata.org/bokeh/release/bokeh-0.12.14.min.js\", \"https://cdn.pydata.org/bokeh/release/bokeh-widgets-0.12.14.min.js\", \"https://cdn.pydata.org/bokeh/release/bokeh-tables-0.12.14.min.js\", \"https://cdn.pydata.org/bokeh/release/bokeh-gl-0.12.14.min.js\"];\n",
       "\n",
       "  var inline_js = [\n",
       "    function(Bokeh) {\n",
       "      Bokeh.set_log_level(\"info\");\n",
       "    },\n",
       "    \n",
       "    function(Bokeh) {\n",
       "      \n",
       "    },\n",
       "    function(Bokeh) {\n",
       "      console.log(\"Bokeh: injecting CSS: https://cdn.pydata.org/bokeh/release/bokeh-0.12.14.min.css\");\n",
       "      Bokeh.embed.inject_css(\"https://cdn.pydata.org/bokeh/release/bokeh-0.12.14.min.css\");\n",
       "      console.log(\"Bokeh: injecting CSS: https://cdn.pydata.org/bokeh/release/bokeh-widgets-0.12.14.min.css\");\n",
       "      Bokeh.embed.inject_css(\"https://cdn.pydata.org/bokeh/release/bokeh-widgets-0.12.14.min.css\");\n",
       "      console.log(\"Bokeh: injecting CSS: https://cdn.pydata.org/bokeh/release/bokeh-tables-0.12.14.min.css\");\n",
       "      Bokeh.embed.inject_css(\"https://cdn.pydata.org/bokeh/release/bokeh-tables-0.12.14.min.css\");\n",
       "    }\n",
       "  ];\n",
       "\n",
       "  function run_inline_js() {\n",
       "    \n",
       "    if ((root.Bokeh !== undefined) || (force === true)) {\n",
       "      for (var i = 0; i < inline_js.length; i++) {\n",
       "        inline_js[i].call(root, root.Bokeh);\n",
       "      }if (force === true) {\n",
       "        display_loaded();\n",
       "      }} else if (Date.now() < root._bokeh_timeout) {\n",
       "      setTimeout(run_inline_js, 100);\n",
       "    } else if (!root._bokeh_failed_load) {\n",
       "      console.log(\"Bokeh: BokehJS failed to load within specified timeout.\");\n",
       "      root._bokeh_failed_load = true;\n",
       "    } else if (force !== true) {\n",
       "      var cell = $(document.getElementById(\"dc5f505d-3843-4eaf-a849-95b3f7a1c00d\")).parents('.cell').data().cell;\n",
       "      cell.output_area.append_execute_result(NB_LOAD_WARNING)\n",
       "    }\n",
       "\n",
       "  }\n",
       "\n",
       "  if (root._bokeh_is_loading === 0) {\n",
       "    console.log(\"Bokeh: BokehJS loaded, going straight to plotting\");\n",
       "    run_inline_js();\n",
       "  } else {\n",
       "    load_libs(js_urls, function() {\n",
       "      console.log(\"Bokeh: BokehJS plotting callback run at\", now());\n",
       "      run_inline_js();\n",
       "    });\n",
       "  }\n",
       "}(window));"
      ],
      "application/vnd.bokehjs_load.v0+json": "\n(function(root) {\n  function now() {\n    return new Date();\n  }\n\n  var force = true;\n\n  if (typeof (root._bokeh_onload_callbacks) === \"undefined\" || force === true) {\n    root._bokeh_onload_callbacks = [];\n    root._bokeh_is_loading = undefined;\n  }\n\n  \n\n  \n  if (typeof (root._bokeh_timeout) === \"undefined\" || force === true) {\n    root._bokeh_timeout = Date.now() + 5000;\n    root._bokeh_failed_load = false;\n  }\n\n  var NB_LOAD_WARNING = {'data': {'text/html':\n     \"<div style='background-color: #fdd'>\\n\"+\n     \"<p>\\n\"+\n     \"BokehJS does not appear to have successfully loaded. If loading BokehJS from CDN, this \\n\"+\n     \"may be due to a slow or bad network connection. Possible fixes:\\n\"+\n     \"</p>\\n\"+\n     \"<ul>\\n\"+\n     \"<li>re-rerun `output_notebook()` to attempt to load from CDN again, or</li>\\n\"+\n     \"<li>use INLINE resources instead, as so:</li>\\n\"+\n     \"</ul>\\n\"+\n     \"<code>\\n\"+\n     \"from bokeh.resources import INLINE\\n\"+\n     \"output_notebook(resources=INLINE)\\n\"+\n     \"</code>\\n\"+\n     \"</div>\"}};\n\n  function display_loaded() {\n    var el = document.getElementById(\"dc5f505d-3843-4eaf-a849-95b3f7a1c00d\");\n    if (el != null) {\n      el.textContent = \"BokehJS is loading...\";\n    }\n    if (root.Bokeh !== undefined) {\n      if (el != null) {\n        el.textContent = \"BokehJS \" + root.Bokeh.version + \" successfully loaded.\";\n      }\n    } else if (Date.now() < root._bokeh_timeout) {\n      setTimeout(display_loaded, 100)\n    }\n  }\n\n\n  function run_callbacks() {\n    try {\n      root._bokeh_onload_callbacks.forEach(function(callback) { callback() });\n    }\n    finally {\n      delete root._bokeh_onload_callbacks\n    }\n    console.info(\"Bokeh: all callbacks have finished\");\n  }\n\n  function load_libs(js_urls, callback) {\n    root._bokeh_onload_callbacks.push(callback);\n    if (root._bokeh_is_loading > 0) {\n      console.log(\"Bokeh: BokehJS is being loaded, scheduling callback at\", now());\n      return null;\n    }\n    if (js_urls == null || js_urls.length === 0) {\n      run_callbacks();\n      return null;\n    }\n    console.log(\"Bokeh: BokehJS not loaded, scheduling load and callback at\", now());\n    root._bokeh_is_loading = js_urls.length;\n    for (var i = 0; i < js_urls.length; i++) {\n      var url = js_urls[i];\n      var s = document.createElement('script');\n      s.src = url;\n      s.async = false;\n      s.onreadystatechange = s.onload = function() {\n        root._bokeh_is_loading--;\n        if (root._bokeh_is_loading === 0) {\n          console.log(\"Bokeh: all BokehJS libraries loaded\");\n          run_callbacks()\n        }\n      };\n      s.onerror = function() {\n        console.warn(\"failed to load library \" + url);\n      };\n      console.log(\"Bokeh: injecting script tag for BokehJS library: \", url);\n      document.getElementsByTagName(\"head\")[0].appendChild(s);\n    }\n  };var element = document.getElementById(\"dc5f505d-3843-4eaf-a849-95b3f7a1c00d\");\n  if (element == null) {\n    console.log(\"Bokeh: ERROR: autoload.js configured with elementid 'dc5f505d-3843-4eaf-a849-95b3f7a1c00d' but no matching script tag was found. \")\n    return false;\n  }\n\n  var js_urls = [\"https://cdn.pydata.org/bokeh/release/bokeh-0.12.14.min.js\", \"https://cdn.pydata.org/bokeh/release/bokeh-widgets-0.12.14.min.js\", \"https://cdn.pydata.org/bokeh/release/bokeh-tables-0.12.14.min.js\", \"https://cdn.pydata.org/bokeh/release/bokeh-gl-0.12.14.min.js\"];\n\n  var inline_js = [\n    function(Bokeh) {\n      Bokeh.set_log_level(\"info\");\n    },\n    \n    function(Bokeh) {\n      \n    },\n    function(Bokeh) {\n      console.log(\"Bokeh: injecting CSS: https://cdn.pydata.org/bokeh/release/bokeh-0.12.14.min.css\");\n      Bokeh.embed.inject_css(\"https://cdn.pydata.org/bokeh/release/bokeh-0.12.14.min.css\");\n      console.log(\"Bokeh: injecting CSS: https://cdn.pydata.org/bokeh/release/bokeh-widgets-0.12.14.min.css\");\n      Bokeh.embed.inject_css(\"https://cdn.pydata.org/bokeh/release/bokeh-widgets-0.12.14.min.css\");\n      console.log(\"Bokeh: injecting CSS: https://cdn.pydata.org/bokeh/release/bokeh-tables-0.12.14.min.css\");\n      Bokeh.embed.inject_css(\"https://cdn.pydata.org/bokeh/release/bokeh-tables-0.12.14.min.css\");\n    }\n  ];\n\n  function run_inline_js() {\n    \n    if ((root.Bokeh !== undefined) || (force === true)) {\n      for (var i = 0; i < inline_js.length; i++) {\n        inline_js[i].call(root, root.Bokeh);\n      }if (force === true) {\n        display_loaded();\n      }} else if (Date.now() < root._bokeh_timeout) {\n      setTimeout(run_inline_js, 100);\n    } else if (!root._bokeh_failed_load) {\n      console.log(\"Bokeh: BokehJS failed to load within specified timeout.\");\n      root._bokeh_failed_load = true;\n    } else if (force !== true) {\n      var cell = $(document.getElementById(\"dc5f505d-3843-4eaf-a849-95b3f7a1c00d\")).parents('.cell').data().cell;\n      cell.output_area.append_execute_result(NB_LOAD_WARNING)\n    }\n\n  }\n\n  if (root._bokeh_is_loading === 0) {\n    console.log(\"Bokeh: BokehJS loaded, going straight to plotting\");\n    run_inline_js();\n  } else {\n    load_libs(js_urls, function() {\n      console.log(\"Bokeh: BokehJS plotting callback run at\", now());\n      run_inline_js();\n    });\n  }\n}(window));"
     },
     "metadata": {},
     "output_type": "display_data"
    }
   ],
   "source": [
    "from bokeh.io import show, output_notebook\n",
    "from bokeh.plotting import figure, output_file, show\n",
    "from bokeh.models import HoverTool, FuncTickFormatter, FixedTicker, ColumnDataSource\n",
    "\n",
    "output_notebook()"
   ]
  },
  {
   "cell_type": "code",
   "execution_count": 47,
   "metadata": {},
   "outputs": [],
   "source": [
    "p = figure(x_range=dates[:23], plot_height=600, plot_width=1000, title=\"Weighted Frequency of \\'America First\\'\", x_axis_label = \"Year\",\n",
    "       y_axis_label = \"Weighted Appearance Frequency of \\'America First\\'\", toolbar_location=None, tools=\"\")"
   ]
  },
  {
   "cell_type": "code",
   "execution_count": 48,
   "metadata": {},
   "outputs": [
    {
     "data": {
      "text/html": [
       "<div style=\"display: table;\"><div style=\"display: table-row;\"><div style=\"display: table-cell;\"><b title=\"bokeh.models.renderers.GlyphRenderer\">GlyphRenderer</b>(</div><div style=\"display: table-cell;\">id&nbsp;=&nbsp;'ec01b502-8a29-419c-a375-857189bf0191', <span id=\"18bc4d90-919d-4368-9265-5dfb91d621e2\" style=\"cursor: pointer;\">&hellip;)</span></div></div><div class=\"120e8bb6-b063-4ab3-bb56-8e9b4d99496f\" style=\"display: none;\"><div style=\"display: table-cell;\"></div><div style=\"display: table-cell;\">data_source&nbsp;=&nbsp;ColumnDataSource(id='0981106e-f747-4b55-a56f-7c6df1ea8ecc', ...),</div></div><div class=\"120e8bb6-b063-4ab3-bb56-8e9b4d99496f\" style=\"display: none;\"><div style=\"display: table-cell;\"></div><div style=\"display: table-cell;\">glyph&nbsp;=&nbsp;Line(id='7698db53-77e4-4e00-9876-748bc2ee3ea7', ...),</div></div><div class=\"120e8bb6-b063-4ab3-bb56-8e9b4d99496f\" style=\"display: none;\"><div style=\"display: table-cell;\"></div><div style=\"display: table-cell;\">hover_glyph&nbsp;=&nbsp;None,</div></div><div class=\"120e8bb6-b063-4ab3-bb56-8e9b4d99496f\" style=\"display: none;\"><div style=\"display: table-cell;\"></div><div style=\"display: table-cell;\">js_event_callbacks&nbsp;=&nbsp;{},</div></div><div class=\"120e8bb6-b063-4ab3-bb56-8e9b4d99496f\" style=\"display: none;\"><div style=\"display: table-cell;\"></div><div style=\"display: table-cell;\">js_property_callbacks&nbsp;=&nbsp;{},</div></div><div class=\"120e8bb6-b063-4ab3-bb56-8e9b4d99496f\" style=\"display: none;\"><div style=\"display: table-cell;\"></div><div style=\"display: table-cell;\">level&nbsp;=&nbsp;'glyph',</div></div><div class=\"120e8bb6-b063-4ab3-bb56-8e9b4d99496f\" style=\"display: none;\"><div style=\"display: table-cell;\"></div><div style=\"display: table-cell;\">muted&nbsp;=&nbsp;False,</div></div><div class=\"120e8bb6-b063-4ab3-bb56-8e9b4d99496f\" style=\"display: none;\"><div style=\"display: table-cell;\"></div><div style=\"display: table-cell;\">muted_glyph&nbsp;=&nbsp;None,</div></div><div class=\"120e8bb6-b063-4ab3-bb56-8e9b4d99496f\" style=\"display: none;\"><div style=\"display: table-cell;\"></div><div style=\"display: table-cell;\">name&nbsp;=&nbsp;None,</div></div><div class=\"120e8bb6-b063-4ab3-bb56-8e9b4d99496f\" style=\"display: none;\"><div style=\"display: table-cell;\"></div><div style=\"display: table-cell;\">nonselection_glyph&nbsp;=&nbsp;Line(id='0047549d-8859-4e96-b1e0-d1402726a560', ...),</div></div><div class=\"120e8bb6-b063-4ab3-bb56-8e9b4d99496f\" style=\"display: none;\"><div style=\"display: table-cell;\"></div><div style=\"display: table-cell;\">selection_glyph&nbsp;=&nbsp;None,</div></div><div class=\"120e8bb6-b063-4ab3-bb56-8e9b4d99496f\" style=\"display: none;\"><div style=\"display: table-cell;\"></div><div style=\"display: table-cell;\">subscribed_events&nbsp;=&nbsp;[],</div></div><div class=\"120e8bb6-b063-4ab3-bb56-8e9b4d99496f\" style=\"display: none;\"><div style=\"display: table-cell;\"></div><div style=\"display: table-cell;\">tags&nbsp;=&nbsp;[],</div></div><div class=\"120e8bb6-b063-4ab3-bb56-8e9b4d99496f\" style=\"display: none;\"><div style=\"display: table-cell;\"></div><div style=\"display: table-cell;\">view&nbsp;=&nbsp;CDSView(id='44521639-e0af-4873-b6cc-399599a2e39d', ...),</div></div><div class=\"120e8bb6-b063-4ab3-bb56-8e9b4d99496f\" style=\"display: none;\"><div style=\"display: table-cell;\"></div><div style=\"display: table-cell;\">visible&nbsp;=&nbsp;True,</div></div><div class=\"120e8bb6-b063-4ab3-bb56-8e9b4d99496f\" style=\"display: none;\"><div style=\"display: table-cell;\"></div><div style=\"display: table-cell;\">x_range_name&nbsp;=&nbsp;'default',</div></div><div class=\"120e8bb6-b063-4ab3-bb56-8e9b4d99496f\" style=\"display: none;\"><div style=\"display: table-cell;\"></div><div style=\"display: table-cell;\">y_range_name&nbsp;=&nbsp;'default')</div></div></div>\n",
       "<script>\n",
       "(function() {\n",
       "  var expanded = false;\n",
       "  var ellipsis = document.getElementById(\"18bc4d90-919d-4368-9265-5dfb91d621e2\");\n",
       "  ellipsis.addEventListener(\"click\", function() {\n",
       "    var rows = document.getElementsByClassName(\"120e8bb6-b063-4ab3-bb56-8e9b4d99496f\");\n",
       "    for (var i = 0; i < rows.length; i++) {\n",
       "      var el = rows[i];\n",
       "      el.style.display = expanded ? \"none\" : \"table-row\";\n",
       "    }\n",
       "    ellipsis.innerHTML = expanded ? \"&hellip;)\" : \"&lsaquo;&lsaquo;&lsaquo;\";\n",
       "    expanded = !expanded;\n",
       "  });\n",
       "})();\n",
       "</script>\n"
      ],
      "text/plain": [
       "GlyphRenderer(id='ec01b502-8a29-419c-a375-857189bf0191', ...)"
      ]
     },
     "execution_count": 48,
     "metadata": {},
     "output_type": "execute_result"
    }
   ],
   "source": [
    "p.line(x=dates[:23], y=frequencies[:23])"
   ]
  },
  {
   "cell_type": "code",
   "execution_count": 49,
   "metadata": {},
   "outputs": [
    {
     "data": {
      "text/html": [
       "\n",
       "<div class=\"bk-root\">\n",
       "    <div class=\"bk-plotdiv\" id=\"1cfdd773-3cc6-4892-a3d8-e4f1d9a9ae31\"></div>\n",
       "</div>"
      ]
     },
     "metadata": {},
     "output_type": "display_data"
    },
    {
     "data": {
      "application/javascript": [
       "(function(root) {\n",
       "  function embed_document(root) {\n",
       "    \n",
       "  var docs_json = {\"66e6d7e3-27dc-467c-bf95-eedc77295d55\":{\"roots\":{\"references\":[{\"attributes\":{},\"id\":\"430d971b-39b7-432c-a333-06f24413a55b\",\"type\":\"BasicTickFormatter\"},{\"attributes\":{\"callback\":null,\"factors\":[\"1900\",\"1901\",\"1902\",\"1903\",\"1904\",\"1905\",\"1906\",\"1907\",\"1908\",\"1909\",\"1910\",\"1911\",\"1912\",\"1913\",\"1914\",\"1915\",\"1916\",\"1917\",\"1918\",\"1919\",\"1920\",\"1921\",\"1922\"]},\"id\":\"5c91b532-7d02-4343-adaa-5a3474c4a5c3\",\"type\":\"FactorRange\"},{\"attributes\":{},\"id\":\"1f24aaf4-ef99-45dd-bcff-32c3541bcfa0\",\"type\":\"CategoricalTickFormatter\"},{\"attributes\":{\"callback\":null},\"id\":\"90a488fd-54c5-40e6-84b3-20bdab3f2f3e\",\"type\":\"DataRange1d\"},{\"attributes\":{},\"id\":\"20c83e72-d9b8-4ea9-a805-939115d196aa\",\"type\":\"CategoricalScale\"},{\"attributes\":{},\"id\":\"d2b79724-6078-4fb0-a5db-3b68676db279\",\"type\":\"LinearScale\"},{\"attributes\":{\"data_source\":{\"id\":\"0981106e-f747-4b55-a56f-7c6df1ea8ecc\",\"type\":\"ColumnDataSource\"},\"glyph\":{\"id\":\"7698db53-77e4-4e00-9876-748bc2ee3ea7\",\"type\":\"Line\"},\"hover_glyph\":null,\"muted_glyph\":null,\"nonselection_glyph\":{\"id\":\"0047549d-8859-4e96-b1e0-d1402726a560\",\"type\":\"Line\"},\"selection_glyph\":null,\"view\":{\"id\":\"44521639-e0af-4873-b6cc-399599a2e39d\",\"type\":\"CDSView\"}},\"id\":\"ec01b502-8a29-419c-a375-857189bf0191\",\"type\":\"GlyphRenderer\"},{\"attributes\":{\"axis_label\":\"Year\",\"formatter\":{\"id\":\"1f24aaf4-ef99-45dd-bcff-32c3541bcfa0\",\"type\":\"CategoricalTickFormatter\"},\"plot\":{\"id\":\"c39ca505-c45c-4700-bb85-6d918a993079\",\"subtype\":\"Figure\",\"type\":\"Plot\"},\"ticker\":{\"id\":\"a00c8e77-5a93-41d0-a13c-f9d7f9ddd154\",\"type\":\"CategoricalTicker\"}},\"id\":\"b3b453fc-2d1d-4c7e-8422-1575dca232cc\",\"type\":\"CategoricalAxis\"},{\"attributes\":{},\"id\":\"a00c8e77-5a93-41d0-a13c-f9d7f9ddd154\",\"type\":\"CategoricalTicker\"},{\"attributes\":{\"axis_label\":\"Weighted Appearance Frequency of 'America First'\",\"formatter\":{\"id\":\"430d971b-39b7-432c-a333-06f24413a55b\",\"type\":\"BasicTickFormatter\"},\"plot\":{\"id\":\"c39ca505-c45c-4700-bb85-6d918a993079\",\"subtype\":\"Figure\",\"type\":\"Plot\"},\"ticker\":{\"id\":\"119ec937-2e5d-45b1-9db0-9cbf27ad67de\",\"type\":\"BasicTicker\"}},\"id\":\"18654b90-ebf7-4962-b601-38cea49ed4de\",\"type\":\"LinearAxis\"},{\"attributes\":{\"plot\":{\"id\":\"c39ca505-c45c-4700-bb85-6d918a993079\",\"subtype\":\"Figure\",\"type\":\"Plot\"},\"ticker\":{\"id\":\"a00c8e77-5a93-41d0-a13c-f9d7f9ddd154\",\"type\":\"CategoricalTicker\"}},\"id\":\"1d712521-b737-4531-97ce-40d2e92b52e8\",\"type\":\"Grid\"},{\"attributes\":{\"below\":[{\"id\":\"b3b453fc-2d1d-4c7e-8422-1575dca232cc\",\"type\":\"CategoricalAxis\"}],\"left\":[{\"id\":\"18654b90-ebf7-4962-b601-38cea49ed4de\",\"type\":\"LinearAxis\"}],\"plot_width\":1000,\"renderers\":[{\"id\":\"b3b453fc-2d1d-4c7e-8422-1575dca232cc\",\"type\":\"CategoricalAxis\"},{\"id\":\"1d712521-b737-4531-97ce-40d2e92b52e8\",\"type\":\"Grid\"},{\"id\":\"18654b90-ebf7-4962-b601-38cea49ed4de\",\"type\":\"LinearAxis\"},{\"id\":\"56a23615-f005-4283-a63c-3ada112dab35\",\"type\":\"Grid\"},{\"id\":\"ec01b502-8a29-419c-a375-857189bf0191\",\"type\":\"GlyphRenderer\"}],\"title\":{\"id\":\"71774cc6-ef0b-4e76-8f60-a4f91b5630ec\",\"type\":\"Title\"},\"toolbar\":{\"id\":\"696960a5-f7b3-420f-a164-6b701792c49b\",\"type\":\"Toolbar\"},\"toolbar_location\":null,\"x_range\":{\"id\":\"5c91b532-7d02-4343-adaa-5a3474c4a5c3\",\"type\":\"FactorRange\"},\"x_scale\":{\"id\":\"20c83e72-d9b8-4ea9-a805-939115d196aa\",\"type\":\"CategoricalScale\"},\"y_range\":{\"id\":\"90a488fd-54c5-40e6-84b3-20bdab3f2f3e\",\"type\":\"DataRange1d\"},\"y_scale\":{\"id\":\"d2b79724-6078-4fb0-a5db-3b68676db279\",\"type\":\"LinearScale\"}},\"id\":\"c39ca505-c45c-4700-bb85-6d918a993079\",\"subtype\":\"Figure\",\"type\":\"Plot\"},{\"attributes\":{},\"id\":\"119ec937-2e5d-45b1-9db0-9cbf27ad67de\",\"type\":\"BasicTicker\"},{\"attributes\":{\"plot\":null,\"text\":\"Weighted Frequency of 'America First'\"},\"id\":\"71774cc6-ef0b-4e76-8f60-a4f91b5630ec\",\"type\":\"Title\"},{\"attributes\":{\"dimension\":1,\"plot\":{\"id\":\"c39ca505-c45c-4700-bb85-6d918a993079\",\"subtype\":\"Figure\",\"type\":\"Plot\"},\"ticker\":{\"id\":\"119ec937-2e5d-45b1-9db0-9cbf27ad67de\",\"type\":\"BasicTicker\"}},\"id\":\"56a23615-f005-4283-a63c-3ada112dab35\",\"type\":\"Grid\"},{\"attributes\":{\"line_color\":\"#1f77b4\",\"x\":{\"field\":\"x\"},\"y\":{\"field\":\"y\"}},\"id\":\"7698db53-77e4-4e00-9876-748bc2ee3ea7\",\"type\":\"Line\"},{\"attributes\":{\"callback\":null,\"column_names\":[\"x\",\"y\"],\"data\":{\"x\":[\"1900\",\"1901\",\"1902\",\"1903\",\"1904\",\"1905\",\"1906\",\"1907\",\"1908\",\"1909\",\"1910\",\"1911\",\"1912\",\"1913\",\"1914\",\"1915\",\"1916\",\"1917\",\"1918\",\"1919\",\"1920\",\"1921\",\"1922\"],\"y\":[0.6388888888888888,1.8,0.5405405405405406,0.8378378378378378,0.47619047619047616,0.9069767441860465,1.9523809523809523,1.3333333333333333,0.6122448979591837,0.5263157894736842,0.46875,0.9,1.4722222222222223,0.6415094339622641,1.0333333333333334,0.9387755102040817,1.2580645161290323,1.6153846153846154,1.525,0.9333333333333333,1.368421052631579,0.9545454545454546,1.1590909090909092]}},\"id\":\"0981106e-f747-4b55-a56f-7c6df1ea8ecc\",\"type\":\"ColumnDataSource\"},{\"attributes\":{\"line_alpha\":0.1,\"line_color\":\"#1f77b4\",\"x\":{\"field\":\"x\"},\"y\":{\"field\":\"y\"}},\"id\":\"0047549d-8859-4e96-b1e0-d1402726a560\",\"type\":\"Line\"},{\"attributes\":{\"source\":{\"id\":\"0981106e-f747-4b55-a56f-7c6df1ea8ecc\",\"type\":\"ColumnDataSource\"}},\"id\":\"44521639-e0af-4873-b6cc-399599a2e39d\",\"type\":\"CDSView\"},{\"attributes\":{\"active_drag\":\"auto\",\"active_inspect\":\"auto\",\"active_scroll\":\"auto\",\"active_tap\":\"auto\"},\"id\":\"696960a5-f7b3-420f-a164-6b701792c49b\",\"type\":\"Toolbar\"}],\"root_ids\":[\"c39ca505-c45c-4700-bb85-6d918a993079\"]},\"title\":\"Bokeh Application\",\"version\":\"0.12.14\"}};\n",
       "  var render_items = [{\"docid\":\"66e6d7e3-27dc-467c-bf95-eedc77295d55\",\"elementid\":\"1cfdd773-3cc6-4892-a3d8-e4f1d9a9ae31\",\"modelid\":\"c39ca505-c45c-4700-bb85-6d918a993079\"}];\n",
       "  root.Bokeh.embed.embed_items_notebook(docs_json, render_items);\n",
       "\n",
       "  }\n",
       "  if (root.Bokeh !== undefined) {\n",
       "    embed_document(root);\n",
       "  } else {\n",
       "    var attempts = 0;\n",
       "    var timer = setInterval(function(root) {\n",
       "      if (root.Bokeh !== undefined) {\n",
       "        embed_document(root);\n",
       "        clearInterval(timer);\n",
       "      }\n",
       "      attempts++;\n",
       "      if (attempts > 100) {\n",
       "        console.log(\"Bokeh: ERROR: Unable to run BokehJS code because BokehJS library is missing\")\n",
       "        clearInterval(timer);\n",
       "      }\n",
       "    }, 10, root)\n",
       "  }\n",
       "})(window);"
      ],
      "application/vnd.bokehjs_exec.v0+json": ""
     },
     "metadata": {
      "application/vnd.bokehjs_exec.v0+json": {
       "id": "c39ca505-c45c-4700-bb85-6d918a993079"
      }
     },
     "output_type": "display_data"
    }
   ],
   "source": [
    "show(p)"
   ]
  },
  {
   "cell_type": "code",
   "execution_count": null,
   "metadata": {},
   "outputs": [],
   "source": []
  }
 ],
 "metadata": {
  "kernelspec": {
   "display_name": "Python 3",
   "language": "python",
   "name": "python3"
  },
  "language_info": {
   "codemirror_mode": {
    "name": "ipython",
    "version": 3
   },
   "file_extension": ".py",
   "mimetype": "text/x-python",
   "name": "python",
   "nbconvert_exporter": "python",
   "pygments_lexer": "ipython3",
   "version": "3.6.3"
  }
 },
 "nbformat": 4,
 "nbformat_minor": 2
}
